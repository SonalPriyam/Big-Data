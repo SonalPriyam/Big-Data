{
 "cells": [
  {
   "cell_type": "code",
   "execution_count": 1,
   "id": "6eb30b38-266e-4e75-afa2-a7889d517ded",
   "metadata": {
    "tags": []
   },
   "outputs": [
    {
     "name": "stderr",
     "output_type": "stream",
     "text": [
      "Setting default log level to \"WARN\".\n",
      "To adjust logging level use sc.setLogLevel(newLevel). For SparkR, use setLogLevel(newLevel).\n",
      "25/10/17 13:06:59 INFO SparkEnv: Registering MapOutputTracker\n",
      "25/10/17 13:06:59 INFO SparkEnv: Registering BlockManagerMaster\n",
      "25/10/17 13:06:59 INFO SparkEnv: Registering BlockManagerMasterHeartbeat\n",
      "25/10/17 13:06:59 INFO SparkEnv: Registering OutputCommitCoordinator\n"
     ]
    }
   ],
   "source": [
    "from pyspark.sql import SparkSession\n",
    "\n",
    "spark = SparkSession.builder \\\n",
    "    .appName('OlistData') \\\n",
    "    .getOrCreate()"
   ]
  },
  {
   "cell_type": "code",
   "execution_count": 2,
   "id": "0240ce7d-d3a2-4eda-9ab1-144db80874dc",
   "metadata": {
    "tags": []
   },
   "outputs": [],
   "source": [
    "hdfs_path = '/data/olist/'"
   ]
  },
  {
   "cell_type": "code",
   "execution_count": 3,
   "id": "7a937de0-e410-43fd-b297-2ee159710cbd",
   "metadata": {
    "tags": []
   },
   "outputs": [
    {
     "name": "stdout",
     "output_type": "stream",
     "text": [
      "Found 9 items\n",
      "-rw-r--r--   2 sonalpriyam39 hadoop    9033957 2025-10-17 13:06 /data/olist/olist_customers_dataset.csv\n",
      "-rw-r--r--   2 sonalpriyam39 hadoop   61273883 2025-10-17 13:06 /data/olist/olist_geolocation_dataset.csv\n",
      "-rw-r--r--   2 sonalpriyam39 hadoop   15438671 2025-10-17 13:06 /data/olist/olist_order_items_dataset.csv\n",
      "-rw-r--r--   2 sonalpriyam39 hadoop    5777138 2025-10-17 13:06 /data/olist/olist_order_payments_dataset.csv\n",
      "-rw-r--r--   2 sonalpriyam39 hadoop   14451670 2025-10-17 13:06 /data/olist/olist_order_reviews_dataset.csv\n",
      "-rw-r--r--   2 sonalpriyam39 hadoop   17654914 2025-10-17 13:06 /data/olist/olist_orders_dataset.csv\n",
      "-rw-r--r--   2 sonalpriyam39 hadoop    2379446 2025-10-17 13:06 /data/olist/olist_products_dataset.csv\n",
      "-rw-r--r--   2 sonalpriyam39 hadoop     174703 2025-10-17 13:06 /data/olist/olist_sellers_dataset.csv\n",
      "-rw-r--r--   2 sonalpriyam39 hadoop       2613 2025-10-17 13:06 /data/olist/product_category_name_translation.csv\n"
     ]
    }
   ],
   "source": [
    "!hadoop fs -ls /data/olist"
   ]
  },
  {
   "cell_type": "code",
   "execution_count": 5,
   "id": "9276fe63-d68b-458f-96b7-ee7d3863ce0f",
   "metadata": {
    "tags": []
   },
   "outputs": [
    {
     "name": "stderr",
     "output_type": "stream",
     "text": [
      "                                                                                \r"
     ]
    }
   ],
   "source": [
    "customers_df = spark.read.csv(hdfs_path + 'olist_customers_dataset.csv',header=True,inferSchema=True)\n",
    "orders_df = spark.read.csv(hdfs_path + 'olist_orders_dataset.csv',header=True,inferSchema=True)\n",
    "order_item_df = spark.read.csv(hdfs_path + 'olist_order_items_dataset.csv',header=True,inferSchema=True)\n",
    "payments_df = spark.read.csv(hdfs_path + 'olist_order_payments_dataset.csv',header=True,inferSchema=True)\n",
    "reviews_df = spark.read.csv(hdfs_path + 'olist_order_reviews_dataset.csv',header=True,inferSchema=True)\n",
    "products_df = spark.read.csv(hdfs_path + 'olist_products_dataset.csv',header=True,inferSchema=True)\n",
    "sellers_df = spark.read.csv(hdfs_path + 'olist_sellers_dataset.csv',header=True,inferSchema=True)\n",
    "geolocation_df = spark.read.csv(hdfs_path + 'olist_geolocation_dataset.csv',header=True,inferSchema=True)\n",
    "category_translation_df = spark.read.csv(hdfs_path + 'product_category_name_translation.csv',header=True,inferSchema=True)"
   ]
  },
  {
   "cell_type": "code",
   "execution_count": 6,
   "id": "f8a294fb-89dc-460c-bb5b-ea10158213f4",
   "metadata": {
    "tags": []
   },
   "outputs": [
    {
     "name": "stdout",
     "output_type": "stream",
     "text": [
      "+--------------------+--------------------+------------------------+--------------------+--------------+\n",
      "|         customer_id|  customer_unique_id|customer_zip_code_prefix|       customer_city|customer_state|\n",
      "+--------------------+--------------------+------------------------+--------------------+--------------+\n",
      "|06b8999e2fba1a1fb...|861eff4711a542e4b...|                   14409|              franca|            SP|\n",
      "|18955e83d337fd6b2...|290c77bc529b7ac93...|                    9790|sao bernardo do c...|            SP|\n",
      "|4e7b3e00288586ebd...|060e732b5b29e8181...|                    1151|           sao paulo|            SP|\n",
      "|b2b6027bc5c5109e5...|259dac757896d24d7...|                    8775|     mogi das cruzes|            SP|\n",
      "|4f2d8ab171c80ec83...|345ecd01c38d18a90...|                   13056|            campinas|            SP|\n",
      "|879864dab9bc30475...|4c93744516667ad3b...|                   89254|      jaragua do sul|            SC|\n",
      "|fd826e7cf63160e53...|addec96d2e059c80c...|                    4534|           sao paulo|            SP|\n",
      "|5e274e7a0c3809e14...|57b2a98a409812fe9...|                   35182|             timoteo|            MG|\n",
      "|5adf08e34b2e99398...|1175e95fb47ddff9d...|                   81560|            curitiba|            PR|\n",
      "|4b7139f34592b3a31...|9afe194fb833f79e3...|                   30575|      belo horizonte|            MG|\n",
      "|9fb35e4ed6f0a14a4...|2a7745e1ed516b289...|                   39400|       montes claros|            MG|\n",
      "|5aa9e4fdd4dfd2095...|2a46fb94aef5cbeeb...|                   20231|      rio de janeiro|            RJ|\n",
      "|b2d1536598b73a9ab...|918dc87cd72cd9f6e...|                   18682|    lencois paulista|            SP|\n",
      "|eabebad39a88bb6f5...|295c05e81917928d7...|                    5704|           sao paulo|            SP|\n",
      "|1f1c7bf1c9b041b29...|3151a81801c838636...|                   95110|       caxias do sul|            RS|\n",
      "|206f3129c0e4d7d0b...|21f748a16f4e1688a...|                   13412|          piracicaba|            SP|\n",
      "|a7c125a0a07b75146...|5c2991dbd08bbf3cf...|                   22750|      rio de janeiro|            RJ|\n",
      "|c5c61596a3b6bd0ce...|b6e99561fe6f34a55...|                    7124|           guarulhos|            SP|\n",
      "|9b8ce803689b3562d...|7f3a72e8f988c6e73...|                    5416|           sao paulo|            SP|\n",
      "|49d0ea0986edde72d...|3e6fd6b2f0d499456...|                   68485|              pacaja|            PA|\n",
      "+--------------------+--------------------+------------------------+--------------------+--------------+\n",
      "only showing top 20 rows\n",
      "\n"
     ]
    }
   ],
   "source": [
    "customers_df.show()"
   ]
  },
  {
   "cell_type": "markdown",
   "id": "192cd47d-0b92-476a-b4cf-0caaa6efe7a7",
   "metadata": {},
   "source": [
    "# Identify Missing Values"
   ]
  },
  {
   "cell_type": "code",
   "execution_count": 7,
   "id": "2744702d-89de-46ad-a5f1-2bba64053c90",
   "metadata": {
    "tags": []
   },
   "outputs": [],
   "source": [
    "from pyspark.sql.functions import *"
   ]
  },
  {
   "cell_type": "code",
   "execution_count": 8,
   "id": "c17371ea-0b37-41b7-b70c-659523db6f29",
   "metadata": {
    "tags": []
   },
   "outputs": [],
   "source": [
    "def missing_numbers(df,df_name):\n",
    "    print(f'Missing Values in {df_name}:')\n",
    "    df.select([count(when(col(c).isNull(),1)).alias(c) for c in df.columns]).show()"
   ]
  },
  {
   "cell_type": "code",
   "execution_count": 9,
   "id": "4549d3b8-5fe7-4fe5-bbbd-9b54e8547e4b",
   "metadata": {
    "tags": []
   },
   "outputs": [
    {
     "name": "stdout",
     "output_type": "stream",
     "text": [
      "Missing Values in customer:\n"
     ]
    },
    {
     "name": "stderr",
     "output_type": "stream",
     "text": [
      "[Stage 19:=============================>                            (1 + 1) / 2]\r"
     ]
    },
    {
     "name": "stdout",
     "output_type": "stream",
     "text": [
      "+-----------+------------------+------------------------+-------------+--------------+\n",
      "|customer_id|customer_unique_id|customer_zip_code_prefix|customer_city|customer_state|\n",
      "+-----------+------------------+------------------------+-------------+--------------+\n",
      "|          0|                 0|                       0|            0|             0|\n",
      "+-----------+------------------+------------------------+-------------+--------------+\n",
      "\n"
     ]
    },
    {
     "name": "stderr",
     "output_type": "stream",
     "text": [
      "                                                                                \r"
     ]
    }
   ],
   "source": [
    "missing_numbers(customers_df,'customer')"
   ]
  },
  {
   "cell_type": "code",
   "execution_count": 10,
   "id": "cdcd5f19-2b60-4405-8386-bcda8c1a55b6",
   "metadata": {
    "tags": []
   },
   "outputs": [
    {
     "name": "stdout",
     "output_type": "stream",
     "text": [
      "Missing Values in orders:\n",
      "+--------+-----------+------------+------------------------+-----------------+----------------------------+-----------------------------+-----------------------------+\n",
      "|order_id|customer_id|order_status|order_purchase_timestamp|order_approved_at|order_delivered_carrier_date|order_delivered_customer_date|order_estimated_delivery_date|\n",
      "+--------+-----------+------------+------------------------+-----------------+----------------------------+-----------------------------+-----------------------------+\n",
      "|       0|          0|           0|                       0|              160|                        1783|                         2965|                            0|\n",
      "+--------+-----------+------------+------------------------+-----------------+----------------------------+-----------------------------+-----------------------------+\n",
      "\n"
     ]
    }
   ],
   "source": [
    "missing_numbers(orders_df,'orders')"
   ]
  },
  {
   "cell_type": "code",
   "execution_count": 11,
   "id": "663f7f6f-b3db-42fc-9ca2-0b59fab3271d",
   "metadata": {
    "tags": []
   },
   "outputs": [
    {
     "name": "stdout",
     "output_type": "stream",
     "text": [
      "Missing Values in order_item:\n",
      "+--------+-------------+----------+---------+-------------------+-----+-------------+\n",
      "|order_id|order_item_id|product_id|seller_id|shipping_limit_date|price|freight_value|\n",
      "+--------+-------------+----------+---------+-------------------+-----+-------------+\n",
      "|       0|            0|         0|        0|                  0|    0|            0|\n",
      "+--------+-------------+----------+---------+-------------------+-----+-------------+\n",
      "\n"
     ]
    }
   ],
   "source": [
    "missing_numbers(order_item_df,'order_item')"
   ]
  },
  {
   "cell_type": "code",
   "execution_count": 12,
   "id": "48a6f81d-cb5d-4239-bd10-71e4c940f934",
   "metadata": {
    "tags": []
   },
   "outputs": [
    {
     "name": "stdout",
     "output_type": "stream",
     "text": [
      "Missing Values in payments:\n",
      "+--------+------------------+------------+--------------------+-------------+\n",
      "|order_id|payment_sequential|payment_type|payment_installments|payment_value|\n",
      "+--------+------------------+------------+--------------------+-------------+\n",
      "|       0|                 0|           0|                   0|            0|\n",
      "+--------+------------------+------------+--------------------+-------------+\n",
      "\n"
     ]
    }
   ],
   "source": [
    "missing_numbers(payments_df,'payments')"
   ]
  },
  {
   "cell_type": "markdown",
   "id": "88d86bc3-b295-421d-a8ce-39b55573c229",
   "metadata": {},
   "source": [
    "# 2.Handle Missing Values"
   ]
  },
  {
   "cell_type": "code",
   "execution_count": 13,
   "id": "81633836-2621-4a22-a44f-1d1699d17732",
   "metadata": {
    "tags": []
   },
   "outputs": [],
   "source": [
    "orders_df_cleaned = orders_df.na.drop(subset=['order_id','customer_id','order_status'])"
   ]
  },
  {
   "cell_type": "code",
   "execution_count": 14,
   "id": "1eeb8236-f093-4f64-bac1-1faa42009a13",
   "metadata": {
    "tags": []
   },
   "outputs": [
    {
     "name": "stdout",
     "output_type": "stream",
     "text": [
      "+--------------------+--------------------+------------+------------------------+-------------------+----------------------------+-----------------------------+-----------------------------+\n",
      "|            order_id|         customer_id|order_status|order_purchase_timestamp|  order_approved_at|order_delivered_carrier_date|order_delivered_customer_date|order_estimated_delivery_date|\n",
      "+--------------------+--------------------+------------+------------------------+-------------------+----------------------------+-----------------------------+-----------------------------+\n",
      "|e481f51cbdc54678b...|9ef432eb625129730...|   delivered|     2017-10-02 10:56:33|2017-10-02 11:07:15|         2017-10-04 19:55:00|          2017-10-10 21:25:13|          2017-10-18 00:00:00|\n",
      "|53cdb2fc8bc7dce0b...|b0830fb4747a6c6d2...|   delivered|     2018-07-24 20:41:37|2018-07-26 03:24:27|         2018-07-26 14:31:00|          2018-08-07 15:27:45|          2018-08-13 00:00:00|\n",
      "|47770eb9100c2d0c4...|41ce2a54c0b03bf34...|   delivered|     2018-08-08 08:38:49|2018-08-08 08:55:23|         2018-08-08 13:50:00|          2018-08-17 18:06:29|          2018-09-04 00:00:00|\n",
      "|949d5b44dbf5de918...|f88197465ea7920ad...|   delivered|     2017-11-18 19:28:06|2017-11-18 19:45:59|         2017-11-22 13:39:59|          2017-12-02 00:28:42|          2017-12-15 00:00:00|\n",
      "|ad21c59c0840e6cb8...|8ab97904e6daea886...|   delivered|     2018-02-13 21:18:39|2018-02-13 22:20:29|         2018-02-14 19:46:34|          2018-02-16 18:17:02|          2018-02-26 00:00:00|\n",
      "|a4591c265e18cb1dc...|503740e9ca751ccdd...|   delivered|     2017-07-09 21:57:05|2017-07-09 22:10:13|         2017-07-11 14:58:04|          2017-07-26 10:57:55|          2017-08-01 00:00:00|\n",
      "|136cce7faa42fdb2c...|ed0271e0b7da060a3...|    invoiced|     2017-04-11 12:22:08|2017-04-13 13:25:17|                        NULL|                         NULL|          2017-05-09 00:00:00|\n",
      "|6514b8ad8028c9f2c...|9bdf08b4b3b52b552...|   delivered|     2017-05-16 13:10:30|2017-05-16 13:22:11|         2017-05-22 10:07:46|          2017-05-26 12:55:51|          2017-06-07 00:00:00|\n",
      "|76c6e866289321a7c...|f54a9f0e6b351c431...|   delivered|     2017-01-23 18:29:09|2017-01-25 02:50:47|         2017-01-26 14:16:31|          2017-02-02 14:08:10|          2017-03-06 00:00:00|\n",
      "|e69bfb5eb88e0ed6a...|31ad1d1b63eb99624...|   delivered|     2017-07-29 11:55:02|2017-07-29 12:05:32|         2017-08-10 19:45:24|          2017-08-16 17:14:30|          2017-08-23 00:00:00|\n",
      "|e6ce16cb79ec1d90b...|494dded5b201313c6...|   delivered|     2017-05-16 19:41:10|2017-05-16 19:50:18|         2017-05-18 11:40:40|          2017-05-29 11:18:31|          2017-06-07 00:00:00|\n",
      "|34513ce0c4fab462a...|7711cf624183d843a...|   delivered|     2017-07-13 19:58:11|2017-07-13 20:10:08|         2017-07-14 18:43:29|          2017-07-19 14:04:48|          2017-08-08 00:00:00|\n",
      "|82566a660a982b15f...|d3e3b74c766bc6214...|   delivered|     2018-06-07 10:06:19|2018-06-09 03:13:12|         2018-06-11 13:29:00|          2018-06-19 12:05:52|          2018-07-18 00:00:00|\n",
      "|5ff96c15d0b717ac6...|19402a48fe860416a...|   delivered|     2018-07-25 17:44:10|2018-07-25 17:55:14|         2018-07-26 13:16:00|          2018-07-30 15:52:25|          2018-08-08 00:00:00|\n",
      "|432aaf21d85167c2c...|3df704f53d3f1d481...|   delivered|     2018-03-01 14:14:28|2018-03-01 15:10:47|         2018-03-02 21:09:20|          2018-03-12 23:36:26|          2018-03-21 00:00:00|\n",
      "|dcb36b511fcac050b...|3b6828a50ffe54694...|   delivered|     2018-06-07 19:03:12|2018-06-12 23:31:02|         2018-06-11 14:54:00|          2018-06-21 15:34:32|          2018-07-04 00:00:00|\n",
      "|403b97836b0c04a62...|738b086814c6fcc74...|   delivered|     2018-01-02 19:00:43|2018-01-02 19:09:04|         2018-01-03 18:19:09|          2018-01-20 01:38:59|          2018-02-06 00:00:00|\n",
      "|116f0b09343b49556...|3187789bec9909876...|   delivered|     2017-12-26 23:41:31|2017-12-26 23:50:22|         2017-12-28 18:33:05|          2018-01-08 22:36:36|          2018-01-29 00:00:00|\n",
      "|85ce859fd6dc634de...|059f7fc5719c7da6c...|   delivered|     2017-11-21 00:03:41|2017-11-21 00:14:22|         2017-11-23 21:32:26|          2017-11-27 18:28:00|          2017-12-11 00:00:00|\n",
      "|83018ec114eee8641...|7f8c8b9c2ae27bf33...|   delivered|     2017-10-26 15:54:26|2017-10-26 16:08:14|         2017-10-26 21:46:53|          2017-11-08 22:22:00|          2017-11-23 00:00:00|\n",
      "+--------------------+--------------------+------------+------------------------+-------------------+----------------------------+-----------------------------+-----------------------------+\n",
      "only showing top 20 rows\n",
      "\n"
     ]
    }
   ],
   "source": [
    "orders_df_cleaned.show()"
   ]
  },
  {
   "cell_type": "code",
   "execution_count": 15,
   "id": "38f8fabf-6c18-4694-8e20-3c61f5e6bc46",
   "metadata": {
    "tags": []
   },
   "outputs": [],
   "source": [
    "orders_df_cleaned = orders_df.fillna({'order_delivered_customer_date' : '9999-12-31'})"
   ]
  },
  {
   "cell_type": "code",
   "execution_count": 16,
   "id": "d9ed289c-a160-484c-a670-94663ab8b414",
   "metadata": {
    "tags": []
   },
   "outputs": [
    {
     "name": "stdout",
     "output_type": "stream",
     "text": [
      "+--------------------+--------------------+------------+------------------------+-------------------+----------------------------+-----------------------------+-----------------------------+\n",
      "|            order_id|         customer_id|order_status|order_purchase_timestamp|  order_approved_at|order_delivered_carrier_date|order_delivered_customer_date|order_estimated_delivery_date|\n",
      "+--------------------+--------------------+------------+------------------------+-------------------+----------------------------+-----------------------------+-----------------------------+\n",
      "|e481f51cbdc54678b...|9ef432eb625129730...|   delivered|     2017-10-02 10:56:33|2017-10-02 11:07:15|         2017-10-04 19:55:00|          2017-10-10 21:25:13|          2017-10-18 00:00:00|\n",
      "|53cdb2fc8bc7dce0b...|b0830fb4747a6c6d2...|   delivered|     2018-07-24 20:41:37|2018-07-26 03:24:27|         2018-07-26 14:31:00|          2018-08-07 15:27:45|          2018-08-13 00:00:00|\n",
      "|47770eb9100c2d0c4...|41ce2a54c0b03bf34...|   delivered|     2018-08-08 08:38:49|2018-08-08 08:55:23|         2018-08-08 13:50:00|          2018-08-17 18:06:29|          2018-09-04 00:00:00|\n",
      "|949d5b44dbf5de918...|f88197465ea7920ad...|   delivered|     2017-11-18 19:28:06|2017-11-18 19:45:59|         2017-11-22 13:39:59|          2017-12-02 00:28:42|          2017-12-15 00:00:00|\n",
      "|ad21c59c0840e6cb8...|8ab97904e6daea886...|   delivered|     2018-02-13 21:18:39|2018-02-13 22:20:29|         2018-02-14 19:46:34|          2018-02-16 18:17:02|          2018-02-26 00:00:00|\n",
      "|a4591c265e18cb1dc...|503740e9ca751ccdd...|   delivered|     2017-07-09 21:57:05|2017-07-09 22:10:13|         2017-07-11 14:58:04|          2017-07-26 10:57:55|          2017-08-01 00:00:00|\n",
      "|136cce7faa42fdb2c...|ed0271e0b7da060a3...|    invoiced|     2017-04-11 12:22:08|2017-04-13 13:25:17|                        NULL|          9999-12-31 00:00:00|          2017-05-09 00:00:00|\n",
      "|6514b8ad8028c9f2c...|9bdf08b4b3b52b552...|   delivered|     2017-05-16 13:10:30|2017-05-16 13:22:11|         2017-05-22 10:07:46|          2017-05-26 12:55:51|          2017-06-07 00:00:00|\n",
      "|76c6e866289321a7c...|f54a9f0e6b351c431...|   delivered|     2017-01-23 18:29:09|2017-01-25 02:50:47|         2017-01-26 14:16:31|          2017-02-02 14:08:10|          2017-03-06 00:00:00|\n",
      "|e69bfb5eb88e0ed6a...|31ad1d1b63eb99624...|   delivered|     2017-07-29 11:55:02|2017-07-29 12:05:32|         2017-08-10 19:45:24|          2017-08-16 17:14:30|          2017-08-23 00:00:00|\n",
      "|e6ce16cb79ec1d90b...|494dded5b201313c6...|   delivered|     2017-05-16 19:41:10|2017-05-16 19:50:18|         2017-05-18 11:40:40|          2017-05-29 11:18:31|          2017-06-07 00:00:00|\n",
      "|34513ce0c4fab462a...|7711cf624183d843a...|   delivered|     2017-07-13 19:58:11|2017-07-13 20:10:08|         2017-07-14 18:43:29|          2017-07-19 14:04:48|          2017-08-08 00:00:00|\n",
      "|82566a660a982b15f...|d3e3b74c766bc6214...|   delivered|     2018-06-07 10:06:19|2018-06-09 03:13:12|         2018-06-11 13:29:00|          2018-06-19 12:05:52|          2018-07-18 00:00:00|\n",
      "|5ff96c15d0b717ac6...|19402a48fe860416a...|   delivered|     2018-07-25 17:44:10|2018-07-25 17:55:14|         2018-07-26 13:16:00|          2018-07-30 15:52:25|          2018-08-08 00:00:00|\n",
      "|432aaf21d85167c2c...|3df704f53d3f1d481...|   delivered|     2018-03-01 14:14:28|2018-03-01 15:10:47|         2018-03-02 21:09:20|          2018-03-12 23:36:26|          2018-03-21 00:00:00|\n",
      "|dcb36b511fcac050b...|3b6828a50ffe54694...|   delivered|     2018-06-07 19:03:12|2018-06-12 23:31:02|         2018-06-11 14:54:00|          2018-06-21 15:34:32|          2018-07-04 00:00:00|\n",
      "|403b97836b0c04a62...|738b086814c6fcc74...|   delivered|     2018-01-02 19:00:43|2018-01-02 19:09:04|         2018-01-03 18:19:09|          2018-01-20 01:38:59|          2018-02-06 00:00:00|\n",
      "|116f0b09343b49556...|3187789bec9909876...|   delivered|     2017-12-26 23:41:31|2017-12-26 23:50:22|         2017-12-28 18:33:05|          2018-01-08 22:36:36|          2018-01-29 00:00:00|\n",
      "|85ce859fd6dc634de...|059f7fc5719c7da6c...|   delivered|     2017-11-21 00:03:41|2017-11-21 00:14:22|         2017-11-23 21:32:26|          2017-11-27 18:28:00|          2017-12-11 00:00:00|\n",
      "|83018ec114eee8641...|7f8c8b9c2ae27bf33...|   delivered|     2017-10-26 15:54:26|2017-10-26 16:08:14|         2017-10-26 21:46:53|          2017-11-08 22:22:00|          2017-11-23 00:00:00|\n",
      "+--------------------+--------------------+------------+------------------------+-------------------+----------------------------+-----------------------------+-----------------------------+\n",
      "only showing top 20 rows\n",
      "\n"
     ]
    }
   ],
   "source": [
    "orders_df_cleaned.show()"
   ]
  },
  {
   "cell_type": "markdown",
   "id": "ffad3d55-8cad-43a5-b832-4627d424016f",
   "metadata": {},
   "source": [
    "# 3.Inpute Missing Values"
   ]
  },
  {
   "cell_type": "code",
   "execution_count": 17,
   "id": "1e7c0a27-465f-4281-9de5-1e1428c8b631",
   "metadata": {
    "tags": []
   },
   "outputs": [
    {
     "name": "stdout",
     "output_type": "stream",
     "text": [
      "+--------------------+------------------+------------+--------------------+-------------+\n",
      "|            order_id|payment_sequential|payment_type|payment_installments|payment_value|\n",
      "+--------------------+------------------+------------+--------------------+-------------+\n",
      "|b81ef226f3fe1789b...|                 1| credit_card|                   8|        99.33|\n",
      "|a9810da82917af2d9...|                 1| credit_card|                   1|        24.39|\n",
      "|25e8ea4e93396b6fa...|                 1| credit_card|                   1|        65.71|\n",
      "|ba78997921bbcdc13...|                 1| credit_card|                   8|       107.78|\n",
      "|42fdf880ba16b47b5...|                 1| credit_card|                   2|       128.45|\n",
      "|298fcdf1f73eb413e...|                 1| credit_card|                   2|        96.12|\n",
      "|771ee386b001f0620...|                 1| credit_card|                   1|        81.16|\n",
      "|3d7239c394a212faa...|                 1| credit_card|                   3|        51.84|\n",
      "|1f78449c87a54faf9...|                 1| credit_card|                   6|       341.09|\n",
      "|0573b5e23cbd79800...|                 1|      boleto|                   1|        51.95|\n",
      "|d88e0d5fa41661ce0...|                 1| credit_card|                   8|       188.73|\n",
      "|2480f727e869fdeb3...|                 1| credit_card|                   1|        141.9|\n",
      "|616105c9352a9668c...|                 1| credit_card|                   1|        75.78|\n",
      "|cf95215a722f3ebf2...|                 1| credit_card|                   5|       102.66|\n",
      "|769214176682788a9...|                 1| credit_card|                   4|       105.28|\n",
      "|12e5cfe0e4716b59a...|                 1| credit_card|                  10|       157.45|\n",
      "|61059985a6fc0ad64...|                 1| credit_card|                   1|       132.04|\n",
      "|79da3f5fe31ad1e45...|                 1| credit_card|                   1|        98.94|\n",
      "|8ac09207f415d55ac...|                 1| credit_card|                   4|       244.15|\n",
      "|b2349a3f20dfbeef6...|                 1| credit_card|                   3|       136.71|\n",
      "+--------------------+------------------+------------+--------------------+-------------+\n",
      "only showing top 20 rows\n",
      "\n"
     ]
    }
   ],
   "source": [
    "payments_df.show()"
   ]
  },
  {
   "cell_type": "code",
   "execution_count": 20,
   "id": "8a6bc600-a5a2-47c9-9892-2a60f19d714c",
   "metadata": {
    "tags": []
   },
   "outputs": [],
   "source": [
    "from pyspark.ml.feature import Imputer\n",
    "\n",
    "imputer = Imputer(inputCols=['payment_value'],outputCols=['payment_value_imputed']).setStrategy('mean')\n",
    "\n",
    "payments_df_cleaned = imputer.fit(payments_df).transform(payments_df)"
   ]
  },
  {
   "cell_type": "code",
   "execution_count": 21,
   "id": "9e4af9fc-9445-40aa-8daf-0f6382639d86",
   "metadata": {
    "tags": []
   },
   "outputs": [
    {
     "name": "stdout",
     "output_type": "stream",
     "text": [
      "+--------------------+------------------+------------+--------------------+-------------+---------------------+\n",
      "|            order_id|payment_sequential|payment_type|payment_installments|payment_value|payment_value_imputed|\n",
      "+--------------------+------------------+------------+--------------------+-------------+---------------------+\n",
      "|b81ef226f3fe1789b...|                 1| credit_card|                   8|        99.33|                99.33|\n",
      "|a9810da82917af2d9...|                 1| credit_card|                   1|        24.39|                24.39|\n",
      "|25e8ea4e93396b6fa...|                 1| credit_card|                   1|        65.71|                65.71|\n",
      "|ba78997921bbcdc13...|                 1| credit_card|                   8|       107.78|               107.78|\n",
      "|42fdf880ba16b47b5...|                 1| credit_card|                   2|       128.45|               128.45|\n",
      "|298fcdf1f73eb413e...|                 1| credit_card|                   2|        96.12|                96.12|\n",
      "|771ee386b001f0620...|                 1| credit_card|                   1|        81.16|                81.16|\n",
      "|3d7239c394a212faa...|                 1| credit_card|                   3|        51.84|                51.84|\n",
      "|1f78449c87a54faf9...|                 1| credit_card|                   6|       341.09|               341.09|\n",
      "|0573b5e23cbd79800...|                 1|      boleto|                   1|        51.95|                51.95|\n",
      "|d88e0d5fa41661ce0...|                 1| credit_card|                   8|       188.73|               188.73|\n",
      "|2480f727e869fdeb3...|                 1| credit_card|                   1|        141.9|                141.9|\n",
      "|616105c9352a9668c...|                 1| credit_card|                   1|        75.78|                75.78|\n",
      "|cf95215a722f3ebf2...|                 1| credit_card|                   5|       102.66|               102.66|\n",
      "|769214176682788a9...|                 1| credit_card|                   4|       105.28|               105.28|\n",
      "|12e5cfe0e4716b59a...|                 1| credit_card|                  10|       157.45|               157.45|\n",
      "|61059985a6fc0ad64...|                 1| credit_card|                   1|       132.04|               132.04|\n",
      "|79da3f5fe31ad1e45...|                 1| credit_card|                   1|        98.94|                98.94|\n",
      "|8ac09207f415d55ac...|                 1| credit_card|                   4|       244.15|               244.15|\n",
      "|b2349a3f20dfbeef6...|                 1| credit_card|                   3|       136.71|               136.71|\n",
      "+--------------------+------------------+------------+--------------------+-------------+---------------------+\n",
      "only showing top 20 rows\n",
      "\n"
     ]
    }
   ],
   "source": [
    "payments_df_cleaned.show()"
   ]
  },
  {
   "cell_type": "code",
   "execution_count": 24,
   "id": "9e5da188-dba7-4e04-b1c1-ad0fb886ebf3",
   "metadata": {
    "tags": []
   },
   "outputs": [],
   "source": [
    "payments_df_with_null = payments_df.withColumn('payment_value',when(col('payment_value')!= 99.33,col('payment_value')).otherwise(lit(None)))"
   ]
  },
  {
   "cell_type": "code",
   "execution_count": 25,
   "id": "b57c91b1-a0c3-4162-9f0c-e9c6de2f682b",
   "metadata": {
    "tags": []
   },
   "outputs": [
    {
     "name": "stdout",
     "output_type": "stream",
     "text": [
      "+--------------------+------------------+------------+--------------------+-------------+\n",
      "|            order_id|payment_sequential|payment_type|payment_installments|payment_value|\n",
      "+--------------------+------------------+------------+--------------------+-------------+\n",
      "|b81ef226f3fe1789b...|                 1| credit_card|                   8|         NULL|\n",
      "|a9810da82917af2d9...|                 1| credit_card|                   1|        24.39|\n",
      "|25e8ea4e93396b6fa...|                 1| credit_card|                   1|        65.71|\n",
      "|ba78997921bbcdc13...|                 1| credit_card|                   8|       107.78|\n",
      "|42fdf880ba16b47b5...|                 1| credit_card|                   2|       128.45|\n",
      "|298fcdf1f73eb413e...|                 1| credit_card|                   2|        96.12|\n",
      "|771ee386b001f0620...|                 1| credit_card|                   1|        81.16|\n",
      "|3d7239c394a212faa...|                 1| credit_card|                   3|        51.84|\n",
      "|1f78449c87a54faf9...|                 1| credit_card|                   6|       341.09|\n",
      "|0573b5e23cbd79800...|                 1|      boleto|                   1|        51.95|\n",
      "|d88e0d5fa41661ce0...|                 1| credit_card|                   8|       188.73|\n",
      "|2480f727e869fdeb3...|                 1| credit_card|                   1|        141.9|\n",
      "|616105c9352a9668c...|                 1| credit_card|                   1|        75.78|\n",
      "|cf95215a722f3ebf2...|                 1| credit_card|                   5|       102.66|\n",
      "|769214176682788a9...|                 1| credit_card|                   4|       105.28|\n",
      "|12e5cfe0e4716b59a...|                 1| credit_card|                  10|       157.45|\n",
      "|61059985a6fc0ad64...|                 1| credit_card|                   1|       132.04|\n",
      "|79da3f5fe31ad1e45...|                 1| credit_card|                   1|        98.94|\n",
      "|8ac09207f415d55ac...|                 1| credit_card|                   4|       244.15|\n",
      "|b2349a3f20dfbeef6...|                 1| credit_card|                   3|       136.71|\n",
      "+--------------------+------------------+------------+--------------------+-------------+\n",
      "only showing top 20 rows\n",
      "\n"
     ]
    }
   ],
   "source": [
    "payments_df_with_null.show()"
   ]
  },
  {
   "cell_type": "code",
   "execution_count": 26,
   "id": "1a287643-c196-405e-9174-8314cabb7469",
   "metadata": {
    "tags": []
   },
   "outputs": [
    {
     "name": "stdout",
     "output_type": "stream",
     "text": [
      "+--------------------+------------------+------------+--------------------+-------------+---------------------+\n",
      "|            order_id|payment_sequential|payment_type|payment_installments|payment_value|payment_value_imputed|\n",
      "+--------------------+------------------+------------+--------------------+-------------+---------------------+\n",
      "|b81ef226f3fe1789b...|                 1| credit_card|                   8|         NULL|                100.0|\n",
      "|a9810da82917af2d9...|                 1| credit_card|                   1|        24.39|                24.39|\n",
      "|25e8ea4e93396b6fa...|                 1| credit_card|                   1|        65.71|                65.71|\n",
      "|ba78997921bbcdc13...|                 1| credit_card|                   8|       107.78|               107.78|\n",
      "|42fdf880ba16b47b5...|                 1| credit_card|                   2|       128.45|               128.45|\n",
      "|298fcdf1f73eb413e...|                 1| credit_card|                   2|        96.12|                96.12|\n",
      "|771ee386b001f0620...|                 1| credit_card|                   1|        81.16|                81.16|\n",
      "|3d7239c394a212faa...|                 1| credit_card|                   3|        51.84|                51.84|\n",
      "|1f78449c87a54faf9...|                 1| credit_card|                   6|       341.09|               341.09|\n",
      "|0573b5e23cbd79800...|                 1|      boleto|                   1|        51.95|                51.95|\n",
      "|d88e0d5fa41661ce0...|                 1| credit_card|                   8|       188.73|               188.73|\n",
      "|2480f727e869fdeb3...|                 1| credit_card|                   1|        141.9|                141.9|\n",
      "|616105c9352a9668c...|                 1| credit_card|                   1|        75.78|                75.78|\n",
      "|cf95215a722f3ebf2...|                 1| credit_card|                   5|       102.66|               102.66|\n",
      "|769214176682788a9...|                 1| credit_card|                   4|       105.28|               105.28|\n",
      "|12e5cfe0e4716b59a...|                 1| credit_card|                  10|       157.45|               157.45|\n",
      "|61059985a6fc0ad64...|                 1| credit_card|                   1|       132.04|               132.04|\n",
      "|79da3f5fe31ad1e45...|                 1| credit_card|                   1|        98.94|                98.94|\n",
      "|8ac09207f415d55ac...|                 1| credit_card|                   4|       244.15|               244.15|\n",
      "|b2349a3f20dfbeef6...|                 1| credit_card|                   3|       136.71|               136.71|\n",
      "+--------------------+------------------+------------+--------------------+-------------+---------------------+\n",
      "only showing top 20 rows\n",
      "\n"
     ]
    }
   ],
   "source": [
    "from pyspark.ml.feature import Imputer\n",
    "\n",
    "imputer = Imputer(inputCols=['payment_value'],outputCols=['payment_value_imputed']).setStrategy('median')\n",
    "\n",
    "payments_df_cleaned = imputer.fit(payments_df_with_null).transform(payments_df_with_null)\n",
    "\n",
    "payments_df_cleaned.show()\n"
   ]
  },
  {
   "cell_type": "markdown",
   "id": "91d2f60b-de6e-49aa-a14d-f4f762ceda26",
   "metadata": {},
   "source": [
    "# 4.Standaridizing the Format"
   ]
  },
  {
   "cell_type": "code",
   "execution_count": 27,
   "id": "415553e4-c6c9-454f-b9ad-5a3e875e3936",
   "metadata": {
    "tags": []
   },
   "outputs": [],
   "source": [
    "def print_schema(df,df_name):\n",
    "    print(f'Schema of {df_name}:')\n",
    "    df.printSchema()"
   ]
  },
  {
   "cell_type": "code",
   "execution_count": 29,
   "id": "0bfbe598-0361-4fbd-ab02-e5eb7b019dab",
   "metadata": {
    "tags": []
   },
   "outputs": [
    {
     "name": "stdout",
     "output_type": "stream",
     "text": [
      "Schema of orders:\n",
      "root\n",
      " |-- order_id: string (nullable = true)\n",
      " |-- customer_id: string (nullable = true)\n",
      " |-- order_status: string (nullable = true)\n",
      " |-- order_purchase_timestamp: timestamp (nullable = true)\n",
      " |-- order_approved_at: timestamp (nullable = true)\n",
      " |-- order_delivered_carrier_date: timestamp (nullable = true)\n",
      " |-- order_delivered_customer_date: timestamp (nullable = true)\n",
      " |-- order_estimated_delivery_date: timestamp (nullable = true)\n",
      "\n"
     ]
    }
   ],
   "source": [
    "print_schema(orders_df,'orders')"
   ]
  },
  {
   "cell_type": "code",
   "execution_count": 30,
   "id": "39d70be4-e8b2-4d21-b391-0c8f89cf12b6",
   "metadata": {
    "tags": []
   },
   "outputs": [
    {
     "name": "stdout",
     "output_type": "stream",
     "text": [
      "Schema of customers:\n",
      "root\n",
      " |-- customer_id: string (nullable = true)\n",
      " |-- customer_unique_id: string (nullable = true)\n",
      " |-- customer_zip_code_prefix: integer (nullable = true)\n",
      " |-- customer_city: string (nullable = true)\n",
      " |-- customer_state: string (nullable = true)\n",
      "\n"
     ]
    }
   ],
   "source": [
    "print_schema(customers_df,'customers')"
   ]
  },
  {
   "cell_type": "code",
   "execution_count": 31,
   "id": "9df43a47-57a3-4aec-9c21-c770708538e1",
   "metadata": {
    "tags": []
   },
   "outputs": [
    {
     "name": "stdout",
     "output_type": "stream",
     "text": [
      "Schema of payments:\n",
      "root\n",
      " |-- order_id: string (nullable = true)\n",
      " |-- payment_sequential: integer (nullable = true)\n",
      " |-- payment_type: string (nullable = true)\n",
      " |-- payment_installments: integer (nullable = true)\n",
      " |-- payment_value: double (nullable = true)\n",
      "\n"
     ]
    }
   ],
   "source": [
    "print_schema(payments_df,'payments')"
   ]
  },
  {
   "cell_type": "code",
   "execution_count": 32,
   "id": "c6104172-78c7-40f9-bbdb-04e8eb2c5d5b",
   "metadata": {
    "tags": []
   },
   "outputs": [
    {
     "name": "stdout",
     "output_type": "stream",
     "text": [
      "+--------------------+--------------------+------------+------------------------+-------------------+----------------------------+-----------------------------+-----------------------------+\n",
      "|            order_id|         customer_id|order_status|order_purchase_timestamp|  order_approved_at|order_delivered_carrier_date|order_delivered_customer_date|order_estimated_delivery_date|\n",
      "+--------------------+--------------------+------------+------------------------+-------------------+----------------------------+-----------------------------+-----------------------------+\n",
      "|e481f51cbdc54678b...|9ef432eb625129730...|   delivered|     2017-10-02 10:56:33|2017-10-02 11:07:15|         2017-10-04 19:55:00|          2017-10-10 21:25:13|          2017-10-18 00:00:00|\n",
      "|53cdb2fc8bc7dce0b...|b0830fb4747a6c6d2...|   delivered|     2018-07-24 20:41:37|2018-07-26 03:24:27|         2018-07-26 14:31:00|          2018-08-07 15:27:45|          2018-08-13 00:00:00|\n",
      "|47770eb9100c2d0c4...|41ce2a54c0b03bf34...|   delivered|     2018-08-08 08:38:49|2018-08-08 08:55:23|         2018-08-08 13:50:00|          2018-08-17 18:06:29|          2018-09-04 00:00:00|\n",
      "|949d5b44dbf5de918...|f88197465ea7920ad...|   delivered|     2017-11-18 19:28:06|2017-11-18 19:45:59|         2017-11-22 13:39:59|          2017-12-02 00:28:42|          2017-12-15 00:00:00|\n",
      "|ad21c59c0840e6cb8...|8ab97904e6daea886...|   delivered|     2018-02-13 21:18:39|2018-02-13 22:20:29|         2018-02-14 19:46:34|          2018-02-16 18:17:02|          2018-02-26 00:00:00|\n",
      "|a4591c265e18cb1dc...|503740e9ca751ccdd...|   delivered|     2017-07-09 21:57:05|2017-07-09 22:10:13|         2017-07-11 14:58:04|          2017-07-26 10:57:55|          2017-08-01 00:00:00|\n",
      "|136cce7faa42fdb2c...|ed0271e0b7da060a3...|    invoiced|     2017-04-11 12:22:08|2017-04-13 13:25:17|                        NULL|                         NULL|          2017-05-09 00:00:00|\n",
      "|6514b8ad8028c9f2c...|9bdf08b4b3b52b552...|   delivered|     2017-05-16 13:10:30|2017-05-16 13:22:11|         2017-05-22 10:07:46|          2017-05-26 12:55:51|          2017-06-07 00:00:00|\n",
      "|76c6e866289321a7c...|f54a9f0e6b351c431...|   delivered|     2017-01-23 18:29:09|2017-01-25 02:50:47|         2017-01-26 14:16:31|          2017-02-02 14:08:10|          2017-03-06 00:00:00|\n",
      "|e69bfb5eb88e0ed6a...|31ad1d1b63eb99624...|   delivered|     2017-07-29 11:55:02|2017-07-29 12:05:32|         2017-08-10 19:45:24|          2017-08-16 17:14:30|          2017-08-23 00:00:00|\n",
      "|e6ce16cb79ec1d90b...|494dded5b201313c6...|   delivered|     2017-05-16 19:41:10|2017-05-16 19:50:18|         2017-05-18 11:40:40|          2017-05-29 11:18:31|          2017-06-07 00:00:00|\n",
      "|34513ce0c4fab462a...|7711cf624183d843a...|   delivered|     2017-07-13 19:58:11|2017-07-13 20:10:08|         2017-07-14 18:43:29|          2017-07-19 14:04:48|          2017-08-08 00:00:00|\n",
      "|82566a660a982b15f...|d3e3b74c766bc6214...|   delivered|     2018-06-07 10:06:19|2018-06-09 03:13:12|         2018-06-11 13:29:00|          2018-06-19 12:05:52|          2018-07-18 00:00:00|\n",
      "|5ff96c15d0b717ac6...|19402a48fe860416a...|   delivered|     2018-07-25 17:44:10|2018-07-25 17:55:14|         2018-07-26 13:16:00|          2018-07-30 15:52:25|          2018-08-08 00:00:00|\n",
      "|432aaf21d85167c2c...|3df704f53d3f1d481...|   delivered|     2018-03-01 14:14:28|2018-03-01 15:10:47|         2018-03-02 21:09:20|          2018-03-12 23:36:26|          2018-03-21 00:00:00|\n",
      "|dcb36b511fcac050b...|3b6828a50ffe54694...|   delivered|     2018-06-07 19:03:12|2018-06-12 23:31:02|         2018-06-11 14:54:00|          2018-06-21 15:34:32|          2018-07-04 00:00:00|\n",
      "|403b97836b0c04a62...|738b086814c6fcc74...|   delivered|     2018-01-02 19:00:43|2018-01-02 19:09:04|         2018-01-03 18:19:09|          2018-01-20 01:38:59|          2018-02-06 00:00:00|\n",
      "|116f0b09343b49556...|3187789bec9909876...|   delivered|     2017-12-26 23:41:31|2017-12-26 23:50:22|         2017-12-28 18:33:05|          2018-01-08 22:36:36|          2018-01-29 00:00:00|\n",
      "|85ce859fd6dc634de...|059f7fc5719c7da6c...|   delivered|     2017-11-21 00:03:41|2017-11-21 00:14:22|         2017-11-23 21:32:26|          2017-11-27 18:28:00|          2017-12-11 00:00:00|\n",
      "|83018ec114eee8641...|7f8c8b9c2ae27bf33...|   delivered|     2017-10-26 15:54:26|2017-10-26 16:08:14|         2017-10-26 21:46:53|          2017-11-08 22:22:00|          2017-11-23 00:00:00|\n",
      "+--------------------+--------------------+------------+------------------------+-------------------+----------------------------+-----------------------------+-----------------------------+\n",
      "only showing top 20 rows\n",
      "\n"
     ]
    }
   ],
   "source": [
    "orders_df.show()"
   ]
  },
  {
   "cell_type": "code",
   "execution_count": 33,
   "id": "20ce06a7-e3d5-4c91-953c-8b540df1a27b",
   "metadata": {
    "tags": []
   },
   "outputs": [],
   "source": [
    "orders_df_cleaned = orders_df_cleaned.withColumn('order_purchase_timestamp',to_date(col('order_purchase_timestamp')))"
   ]
  },
  {
   "cell_type": "code",
   "execution_count": 34,
   "id": "41c46c47-336a-4133-97fb-7abdb3e2b553",
   "metadata": {
    "tags": []
   },
   "outputs": [
    {
     "name": "stdout",
     "output_type": "stream",
     "text": [
      "+--------------------+--------------------+------------+------------------------+-------------------+----------------------------+-----------------------------+-----------------------------+\n",
      "|            order_id|         customer_id|order_status|order_purchase_timestamp|  order_approved_at|order_delivered_carrier_date|order_delivered_customer_date|order_estimated_delivery_date|\n",
      "+--------------------+--------------------+------------+------------------------+-------------------+----------------------------+-----------------------------+-----------------------------+\n",
      "|e481f51cbdc54678b...|9ef432eb625129730...|   delivered|              2017-10-02|2017-10-02 11:07:15|         2017-10-04 19:55:00|          2017-10-10 21:25:13|          2017-10-18 00:00:00|\n",
      "|53cdb2fc8bc7dce0b...|b0830fb4747a6c6d2...|   delivered|              2018-07-24|2018-07-26 03:24:27|         2018-07-26 14:31:00|          2018-08-07 15:27:45|          2018-08-13 00:00:00|\n",
      "|47770eb9100c2d0c4...|41ce2a54c0b03bf34...|   delivered|              2018-08-08|2018-08-08 08:55:23|         2018-08-08 13:50:00|          2018-08-17 18:06:29|          2018-09-04 00:00:00|\n",
      "|949d5b44dbf5de918...|f88197465ea7920ad...|   delivered|              2017-11-18|2017-11-18 19:45:59|         2017-11-22 13:39:59|          2017-12-02 00:28:42|          2017-12-15 00:00:00|\n",
      "|ad21c59c0840e6cb8...|8ab97904e6daea886...|   delivered|              2018-02-13|2018-02-13 22:20:29|         2018-02-14 19:46:34|          2018-02-16 18:17:02|          2018-02-26 00:00:00|\n",
      "|a4591c265e18cb1dc...|503740e9ca751ccdd...|   delivered|              2017-07-09|2017-07-09 22:10:13|         2017-07-11 14:58:04|          2017-07-26 10:57:55|          2017-08-01 00:00:00|\n",
      "|136cce7faa42fdb2c...|ed0271e0b7da060a3...|    invoiced|              2017-04-11|2017-04-13 13:25:17|                        NULL|          9999-12-31 00:00:00|          2017-05-09 00:00:00|\n",
      "|6514b8ad8028c9f2c...|9bdf08b4b3b52b552...|   delivered|              2017-05-16|2017-05-16 13:22:11|         2017-05-22 10:07:46|          2017-05-26 12:55:51|          2017-06-07 00:00:00|\n",
      "|76c6e866289321a7c...|f54a9f0e6b351c431...|   delivered|              2017-01-23|2017-01-25 02:50:47|         2017-01-26 14:16:31|          2017-02-02 14:08:10|          2017-03-06 00:00:00|\n",
      "|e69bfb5eb88e0ed6a...|31ad1d1b63eb99624...|   delivered|              2017-07-29|2017-07-29 12:05:32|         2017-08-10 19:45:24|          2017-08-16 17:14:30|          2017-08-23 00:00:00|\n",
      "|e6ce16cb79ec1d90b...|494dded5b201313c6...|   delivered|              2017-05-16|2017-05-16 19:50:18|         2017-05-18 11:40:40|          2017-05-29 11:18:31|          2017-06-07 00:00:00|\n",
      "|34513ce0c4fab462a...|7711cf624183d843a...|   delivered|              2017-07-13|2017-07-13 20:10:08|         2017-07-14 18:43:29|          2017-07-19 14:04:48|          2017-08-08 00:00:00|\n",
      "|82566a660a982b15f...|d3e3b74c766bc6214...|   delivered|              2018-06-07|2018-06-09 03:13:12|         2018-06-11 13:29:00|          2018-06-19 12:05:52|          2018-07-18 00:00:00|\n",
      "|5ff96c15d0b717ac6...|19402a48fe860416a...|   delivered|              2018-07-25|2018-07-25 17:55:14|         2018-07-26 13:16:00|          2018-07-30 15:52:25|          2018-08-08 00:00:00|\n",
      "|432aaf21d85167c2c...|3df704f53d3f1d481...|   delivered|              2018-03-01|2018-03-01 15:10:47|         2018-03-02 21:09:20|          2018-03-12 23:36:26|          2018-03-21 00:00:00|\n",
      "|dcb36b511fcac050b...|3b6828a50ffe54694...|   delivered|              2018-06-07|2018-06-12 23:31:02|         2018-06-11 14:54:00|          2018-06-21 15:34:32|          2018-07-04 00:00:00|\n",
      "|403b97836b0c04a62...|738b086814c6fcc74...|   delivered|              2018-01-02|2018-01-02 19:09:04|         2018-01-03 18:19:09|          2018-01-20 01:38:59|          2018-02-06 00:00:00|\n",
      "|116f0b09343b49556...|3187789bec9909876...|   delivered|              2017-12-26|2017-12-26 23:50:22|         2017-12-28 18:33:05|          2018-01-08 22:36:36|          2018-01-29 00:00:00|\n",
      "|85ce859fd6dc634de...|059f7fc5719c7da6c...|   delivered|              2017-11-21|2017-11-21 00:14:22|         2017-11-23 21:32:26|          2017-11-27 18:28:00|          2017-12-11 00:00:00|\n",
      "|83018ec114eee8641...|7f8c8b9c2ae27bf33...|   delivered|              2017-10-26|2017-10-26 16:08:14|         2017-10-26 21:46:53|          2017-11-08 22:22:00|          2017-11-23 00:00:00|\n",
      "+--------------------+--------------------+------------+------------------------+-------------------+----------------------------+-----------------------------+-----------------------------+\n",
      "only showing top 20 rows\n",
      "\n"
     ]
    }
   ],
   "source": [
    "orders_df_cleaned.show()"
   ]
  },
  {
   "cell_type": "code",
   "execution_count": 38,
   "id": "77585740-4b9c-4c58-b575-ee4a6aed80f1",
   "metadata": {
    "tags": []
   },
   "outputs": [
    {
     "name": "stdout",
     "output_type": "stream",
     "text": [
      "['not_defined', 'credit_card', 'boleto', 'debit_card', 'voucher']\n"
     ]
    }
   ],
   "source": [
    "payment_types = payments_df_cleaned.select('payment_type').distinct().rdd.flatMap(lambda x:x).collect()\n",
    "print(payment_types)"
   ]
  },
  {
   "cell_type": "code",
   "execution_count": 40,
   "id": "586e1962-456b-4d7a-9494-abf88502fc74",
   "metadata": {
    "tags": []
   },
   "outputs": [],
   "source": [
    "payments_df_cleaned = payments_df_cleaned.withColumn('payment_type',when(col('payment_type')=='boleto','Bank transfer').when(col('payment_type')=='credit_card','Credit Card').when(col('payment_type')=='debit_card','Debit Card').otherwise('other'))"
   ]
  },
  {
   "cell_type": "code",
   "execution_count": 41,
   "id": "21337af6-72cb-4913-8c15-5f67f780cd70",
   "metadata": {
    "tags": []
   },
   "outputs": [
    {
     "name": "stderr",
     "output_type": "stream",
     "text": [
      "[Stage 55:=============================>                            (1 + 1) / 2]\r"
     ]
    },
    {
     "name": "stdout",
     "output_type": "stream",
     "text": [
      "['Bank transfer', 'Credit Card', 'Debit Card', 'other']\n"
     ]
    },
    {
     "name": "stderr",
     "output_type": "stream",
     "text": [
      "                                                                                \r"
     ]
    }
   ],
   "source": [
    "Payment_types = payments_df_cleaned.select('payment_type').distinct().rdd.flatMap(lambda x:x).collect()\n",
    "print(Payment_types)"
   ]
  },
  {
   "cell_type": "code",
   "execution_count": 42,
   "id": "62d2712e-78d5-4f7b-998f-7206425088de",
   "metadata": {
    "tags": []
   },
   "outputs": [
    {
     "name": "stdout",
     "output_type": "stream",
     "text": [
      "Schema of customers:\n",
      "root\n",
      " |-- customer_id: string (nullable = true)\n",
      " |-- customer_unique_id: string (nullable = true)\n",
      " |-- customer_zip_code_prefix: integer (nullable = true)\n",
      " |-- customer_city: string (nullable = true)\n",
      " |-- customer_state: string (nullable = true)\n",
      "\n"
     ]
    }
   ],
   "source": [
    "print_schema(customers_df,'customers')"
   ]
  },
  {
   "cell_type": "code",
   "execution_count": 43,
   "id": "3fd8fbb9-26b8-44a6-a3d6-f61f484230c7",
   "metadata": {
    "tags": []
   },
   "outputs": [
    {
     "name": "stdout",
     "output_type": "stream",
     "text": [
      "+--------------------+--------------------+------------------------+--------------------+--------------+\n",
      "|         customer_id|  customer_unique_id|customer_zip_code_prefix|       customer_city|customer_state|\n",
      "+--------------------+--------------------+------------------------+--------------------+--------------+\n",
      "|06b8999e2fba1a1fb...|861eff4711a542e4b...|                   14409|              franca|            SP|\n",
      "|18955e83d337fd6b2...|290c77bc529b7ac93...|                    9790|sao bernardo do c...|            SP|\n",
      "|4e7b3e00288586ebd...|060e732b5b29e8181...|                    1151|           sao paulo|            SP|\n",
      "|b2b6027bc5c5109e5...|259dac757896d24d7...|                    8775|     mogi das cruzes|            SP|\n",
      "|4f2d8ab171c80ec83...|345ecd01c38d18a90...|                   13056|            campinas|            SP|\n",
      "|879864dab9bc30475...|4c93744516667ad3b...|                   89254|      jaragua do sul|            SC|\n",
      "|fd826e7cf63160e53...|addec96d2e059c80c...|                    4534|           sao paulo|            SP|\n",
      "|5e274e7a0c3809e14...|57b2a98a409812fe9...|                   35182|             timoteo|            MG|\n",
      "|5adf08e34b2e99398...|1175e95fb47ddff9d...|                   81560|            curitiba|            PR|\n",
      "|4b7139f34592b3a31...|9afe194fb833f79e3...|                   30575|      belo horizonte|            MG|\n",
      "|9fb35e4ed6f0a14a4...|2a7745e1ed516b289...|                   39400|       montes claros|            MG|\n",
      "|5aa9e4fdd4dfd2095...|2a46fb94aef5cbeeb...|                   20231|      rio de janeiro|            RJ|\n",
      "|b2d1536598b73a9ab...|918dc87cd72cd9f6e...|                   18682|    lencois paulista|            SP|\n",
      "|eabebad39a88bb6f5...|295c05e81917928d7...|                    5704|           sao paulo|            SP|\n",
      "|1f1c7bf1c9b041b29...|3151a81801c838636...|                   95110|       caxias do sul|            RS|\n",
      "|206f3129c0e4d7d0b...|21f748a16f4e1688a...|                   13412|          piracicaba|            SP|\n",
      "|a7c125a0a07b75146...|5c2991dbd08bbf3cf...|                   22750|      rio de janeiro|            RJ|\n",
      "|c5c61596a3b6bd0ce...|b6e99561fe6f34a55...|                    7124|           guarulhos|            SP|\n",
      "|9b8ce803689b3562d...|7f3a72e8f988c6e73...|                    5416|           sao paulo|            SP|\n",
      "|49d0ea0986edde72d...|3e6fd6b2f0d499456...|                   68485|              pacaja|            PA|\n",
      "+--------------------+--------------------+------------------------+--------------------+--------------+\n",
      "only showing top 20 rows\n",
      "\n"
     ]
    }
   ],
   "source": [
    "customers_df.show()"
   ]
  },
  {
   "cell_type": "code",
   "execution_count": 44,
   "id": "eb07ec85-c5bf-4f52-a9dd-71fdd68bffd2",
   "metadata": {
    "tags": []
   },
   "outputs": [],
   "source": [
    "customers_df_cleaned = customers_df.withColumn('customer_zip_code_prefix',col('customer_zip_code_prefix').cast('string'))"
   ]
  },
  {
   "cell_type": "code",
   "execution_count": 45,
   "id": "06cec963-d566-4da7-9378-2e00ce1a77e4",
   "metadata": {
    "tags": []
   },
   "outputs": [
    {
     "name": "stdout",
     "output_type": "stream",
     "text": [
      "root\n",
      " |-- customer_id: string (nullable = true)\n",
      " |-- customer_unique_id: string (nullable = true)\n",
      " |-- customer_zip_code_prefix: string (nullable = true)\n",
      " |-- customer_city: string (nullable = true)\n",
      " |-- customer_state: string (nullable = true)\n",
      "\n"
     ]
    }
   ],
   "source": [
    "customers_df_cleaned.printSchema()"
   ]
  },
  {
   "cell_type": "markdown",
   "id": "a76ef264-d94e-4554-b5b0-6233672fee85",
   "metadata": {},
   "source": [
    "# 5.Removing Duplicate Records"
   ]
  },
  {
   "cell_type": "code",
   "execution_count": 47,
   "id": "4ce273e7-7b63-4369-9def-6b5a75609277",
   "metadata": {
    "tags": []
   },
   "outputs": [],
   "source": [
    "customers_df_cleaned = customers_df_cleaned.dropDuplicates(['customer_id'])"
   ]
  },
  {
   "cell_type": "markdown",
   "id": "2bb59c76-f6f6-49c9-b35e-63eb73d0c4b6",
   "metadata": {},
   "source": [
    "# 6. Data Transformation"
   ]
  },
  {
   "cell_type": "code",
   "execution_count": 52,
   "id": "4f2f5a44-ec1a-4ce5-9f22-49c65504db60",
   "metadata": {
    "tags": []
   },
   "outputs": [],
   "source": [
    "order_with_details = orders_df_cleaned.join(order_item_df,'order_id','left').join(payments_df_cleaned,'order_id','left').join(customers_df_cleaned,'customer_id','left')"
   ]
  },
  {
   "cell_type": "code",
   "execution_count": 53,
   "id": "2287af22-db5e-4349-a9f9-7e5d9c564cf3",
   "metadata": {
    "tags": []
   },
   "outputs": [
    {
     "name": "stderr",
     "output_type": "stream",
     "text": [
      "[Stage 69:>                                                         (0 + 1) / 1]\r"
     ]
    },
    {
     "name": "stdout",
     "output_type": "stream",
     "text": [
      "+--------------------+--------------------+------------+------------------------+-------------------+----------------------------+-----------------------------+-----------------------------+-------------+--------------------+--------------------+-------------------+------+-------------+------------------+-------------+--------------------+-------------+---------------------+--------------------+------------------------+--------------------+--------------+\n",
      "|         customer_id|            order_id|order_status|order_purchase_timestamp|  order_approved_at|order_delivered_carrier_date|order_delivered_customer_date|order_estimated_delivery_date|order_item_id|          product_id|           seller_id|shipping_limit_date| price|freight_value|payment_sequential| payment_type|payment_installments|payment_value|payment_value_imputed|  customer_unique_id|customer_zip_code_prefix|       customer_city|customer_state|\n",
      "+--------------------+--------------------+------------+------------------------+-------------------+----------------------------+-----------------------------+-----------------------------+-------------+--------------------+--------------------+-------------------+------+-------------+------------------+-------------+--------------------+-------------+---------------------+--------------------+------------------------+--------------------+--------------+\n",
      "|9ef432eb625129730...|e481f51cbdc54678b...|   delivered|              2017-10-02|2017-10-02 11:07:15|         2017-10-04 19:55:00|          2017-10-10 21:25:13|          2017-10-18 00:00:00|            1|87285b34884572647...|3504c0cb71d7fa48d...|2017-10-06 11:07:15| 29.99|         8.72|                 2|        other|                   1|        18.59|                18.59|7c396fd4830fd0422...|                    3149|           sao paulo|            SP|\n",
      "|9ef432eb625129730...|e481f51cbdc54678b...|   delivered|              2017-10-02|2017-10-02 11:07:15|         2017-10-04 19:55:00|          2017-10-10 21:25:13|          2017-10-18 00:00:00|            1|87285b34884572647...|3504c0cb71d7fa48d...|2017-10-06 11:07:15| 29.99|         8.72|                 3|        other|                   1|          2.0|                  2.0|7c396fd4830fd0422...|                    3149|           sao paulo|            SP|\n",
      "|9ef432eb625129730...|e481f51cbdc54678b...|   delivered|              2017-10-02|2017-10-02 11:07:15|         2017-10-04 19:55:00|          2017-10-10 21:25:13|          2017-10-18 00:00:00|            1|87285b34884572647...|3504c0cb71d7fa48d...|2017-10-06 11:07:15| 29.99|         8.72|                 1|  Credit Card|                   1|        18.12|                18.12|7c396fd4830fd0422...|                    3149|           sao paulo|            SP|\n",
      "|b0830fb4747a6c6d2...|53cdb2fc8bc7dce0b...|   delivered|              2018-07-24|2018-07-26 03:24:27|         2018-07-26 14:31:00|          2018-08-07 15:27:45|          2018-08-13 00:00:00|            1|595fac2a385ac33a8...|289cdb325fb7e7f89...|2018-07-30 03:24:27| 118.7|        22.76|                 1|Bank transfer|                   1|       141.46|               141.46|af07308b275d755c9...|                   47813|           barreiras|            BA|\n",
      "|41ce2a54c0b03bf34...|47770eb9100c2d0c4...|   delivered|              2018-08-08|2018-08-08 08:55:23|         2018-08-08 13:50:00|          2018-08-17 18:06:29|          2018-09-04 00:00:00|            1|aa4383b373c6aca5d...|4869f7a5dfa277a7d...|2018-08-13 08:55:23| 159.9|        19.22|                 1|  Credit Card|                   3|       179.12|               179.12|3a653a41f6f9fc3d2...|                   75265|          vianopolis|            GO|\n",
      "|f88197465ea7920ad...|949d5b44dbf5de918...|   delivered|              2017-11-18|2017-11-18 19:45:59|         2017-11-22 13:39:59|          2017-12-02 00:28:42|          2017-12-15 00:00:00|            1|d0b61bfb1de832b15...|66922902710d126a0...|2017-11-23 19:45:59|  45.0|         27.2|                 1|  Credit Card|                   1|         72.2|                 72.2|7c142cf63193a1473...|                   59296|sao goncalo do am...|            RN|\n",
      "|8ab97904e6daea886...|ad21c59c0840e6cb8...|   delivered|              2018-02-13|2018-02-13 22:20:29|         2018-02-14 19:46:34|          2018-02-16 18:17:02|          2018-02-26 00:00:00|            1|65266b2da20d04dbe...|2c9e548be18521d1c...|2018-02-19 20:31:37|  19.9|         8.72|                 1|  Credit Card|                   1|        28.62|                28.62|72632f0f9dd73dfee...|                    9195|         santo andre|            SP|\n",
      "|503740e9ca751ccdd...|a4591c265e18cb1dc...|   delivered|              2017-07-09|2017-07-09 22:10:13|         2017-07-11 14:58:04|          2017-07-26 10:57:55|          2017-08-01 00:00:00|            1|060cb19345d90064d...|8581055ce74af1dab...|2017-07-13 22:10:13| 147.9|        27.36|                 1|  Credit Card|                   6|       175.26|               175.26|80bb27c7c16e8f973...|                   86320|        congonhinhas|            PR|\n",
      "|ed0271e0b7da060a3...|136cce7faa42fdb2c...|    invoiced|              2017-04-11|2017-04-13 13:25:17|                        NULL|          9999-12-31 00:00:00|          2017-05-09 00:00:00|            1|a1804276d9941ac07...|dc8798cbf453b7e0f...|2017-04-19 13:25:17|  49.9|        16.05|                 1|  Credit Card|                   1|        65.95|                65.95|36edbb3fb164b1f16...|                   98900|          santa rosa|            RS|\n",
      "|9bdf08b4b3b52b552...|6514b8ad8028c9f2c...|   delivered|              2017-05-16|2017-05-16 13:22:11|         2017-05-22 10:07:46|          2017-05-26 12:55:51|          2017-06-07 00:00:00|            1|4520766ec412348b8...|16090f2ca825584b5...|2017-05-22 13:22:11| 59.99|        15.17|                 1|  Credit Card|                   3|        75.16|                75.16|932afa1e708222e58...|                   26525|           nilopolis|            RJ|\n",
      "|f54a9f0e6b351c431...|76c6e866289321a7c...|   delivered|              2017-01-23|2017-01-25 02:50:47|         2017-01-26 14:16:31|          2017-02-02 14:08:10|          2017-03-06 00:00:00|            1|ac1789e492dcd698c...|63b9ae557efed31d1...|2017-01-27 18:29:09|  19.9|        16.05|                 1|Bank transfer|                   1|        35.95|                35.95|39382392765b6dc74...|                   99655|        faxinalzinho|            RS|\n",
      "|31ad1d1b63eb99624...|e69bfb5eb88e0ed6a...|   delivered|              2017-07-29|2017-07-29 12:05:32|         2017-08-10 19:45:24|          2017-08-16 17:14:30|          2017-08-23 00:00:00|            1|9a78fb9862b10749a...|7c67e1448b00f6e96...|2017-08-11 12:05:32|149.99|        19.77|                 1|  Credit Card|                   1|         8.34|                 8.34|299905e3934e9e181...|                   18075|            sorocaba|            SP|\n",
      "|31ad1d1b63eb99624...|e69bfb5eb88e0ed6a...|   delivered|              2017-07-29|2017-07-29 12:05:32|         2017-08-10 19:45:24|          2017-08-16 17:14:30|          2017-08-23 00:00:00|            1|9a78fb9862b10749a...|7c67e1448b00f6e96...|2017-08-11 12:05:32|149.99|        19.77|                 2|        other|                   1|       161.42|               161.42|299905e3934e9e181...|                   18075|            sorocaba|            SP|\n",
      "|494dded5b201313c6...|e6ce16cb79ec1d90b...|   delivered|              2017-05-16|2017-05-16 19:50:18|         2017-05-18 11:40:40|          2017-05-29 11:18:31|          2017-06-07 00:00:00|            2|08574b074924071f4...|001cca7ae9ae17fb1...|2017-05-22 19:50:18|  99.0|        30.53|                 1|  Credit Card|                   1|       259.06|               259.06|f2a85dec752b8517b...|                   20780|      rio de janeiro|            RJ|\n",
      "|494dded5b201313c6...|e6ce16cb79ec1d90b...|   delivered|              2017-05-16|2017-05-16 19:50:18|         2017-05-18 11:40:40|          2017-05-29 11:18:31|          2017-06-07 00:00:00|            1|08574b074924071f4...|001cca7ae9ae17fb1...|2017-05-22 19:50:18|  99.0|        30.53|                 1|  Credit Card|                   1|       259.06|               259.06|f2a85dec752b8517b...|                   20780|      rio de janeiro|            RJ|\n",
      "|7711cf624183d843a...|34513ce0c4fab462a...|   delivered|              2017-07-13|2017-07-13 20:10:08|         2017-07-14 18:43:29|          2017-07-19 14:04:48|          2017-08-08 00:00:00|            1|f7e0fa615b386bc9a...|87142160b41353c4e...|2017-07-19 20:10:08|  98.0|        16.13|                 1|  Credit Card|                   1|       114.13|               114.13|782987b81c92239d9...|                    4278|           sao paulo|            SP|\n",
      "|d3e3b74c766bc6214...|82566a660a982b15f...|   delivered|              2018-06-07|2018-06-09 03:13:12|         2018-06-11 13:29:00|          2018-06-19 12:05:52|          2018-07-18 00:00:00|            1|72a97c271b2e42997...|094ced053e257ae8c...|2018-06-18 03:13:12|  31.9|        18.23|                 1|Bank transfer|                   1|        50.13|                50.13|e97109680b052ee85...|                   35400|          ouro preto|            MG|\n",
      "|19402a48fe860416a...|5ff96c15d0b717ac6...|   delivered|              2018-07-25|2018-07-25 17:55:14|         2018-07-26 13:16:00|          2018-07-30 15:52:25|          2018-08-08 00:00:00|            1|10adb53d8faa890ca...|1900267e848ceeba8...|2018-07-27 17:55:14|  19.9|         12.8|                 1|  Credit Card|                   3|         32.7|                 32.7|e2dfa3127fedbbca9...|                    4812|           sao paulo|            SP|\n",
      "|3df704f53d3f1d481...|432aaf21d85167c2c...|   delivered|              2018-03-01|2018-03-01 15:10:47|         2018-03-02 21:09:20|          2018-03-12 23:36:26|          2018-03-21 00:00:00|            1|72d3bf1d3a790f887...|0bae85eb84b9fb3bd...|2018-03-07 15:10:47| 38.25|        16.11|                 1|  Credit Card|                   1|        54.36|                54.36|04cf8185c71090d28...|                    5271|           sao paulo|            SP|\n",
      "|3b6828a50ffe54694...|dcb36b511fcac050b...|   delivered|              2018-06-07|2018-06-12 23:31:02|         2018-06-11 14:54:00|          2018-06-21 15:34:32|          2018-07-04 00:00:00|            1|009c09f439988bc06...|89a51f50b8095ea78...|2018-06-18 18:59:02| 132.4|        14.05|                 1|  Credit Card|                  10|       146.45|               146.45|ccafc1c3f27041052...|                   74820|             goiania|            GO|\n",
      "+--------------------+--------------------+------------+------------------------+-------------------+----------------------------+-----------------------------+-----------------------------+-------------+--------------------+--------------------+-------------------+------+-------------+------------------+-------------+--------------------+-------------+---------------------+--------------------+------------------------+--------------------+--------------+\n",
      "only showing top 20 rows\n",
      "\n"
     ]
    },
    {
     "name": "stderr",
     "output_type": "stream",
     "text": [
      "                                                                                \r"
     ]
    }
   ],
   "source": [
    "order_with_details.show()"
   ]
  },
  {
   "cell_type": "code",
   "execution_count": 55,
   "id": "f1d1914b-33a8-4908-93be-e04ba9b667c3",
   "metadata": {
    "tags": []
   },
   "outputs": [
    {
     "name": "stderr",
     "output_type": "stream",
     "text": [
      "[Stage 78:=============================>                            (1 + 1) / 2]\r"
     ]
    },
    {
     "name": "stdout",
     "output_type": "stream",
     "text": [
      "+--------------------+------------------+\n",
      "|            order_id| total_order_value|\n",
      "+--------------------+------------------+\n",
      "|03caa2c082116e1d3...|         109312.64|\n",
      "|ab14fdcfbe524636d...| 45256.00000000001|\n",
      "|1b15974a0141d54e3...|44048.000000000015|\n",
      "|2cc9089445046817a...|          36489.24|\n",
      "|e8fa22c3673b1dd17...|30185.999999999993|\n",
      "|736e1922ae60d0d6a...|          29099.52|\n",
      "|9aec4e1ae90b23c7b...|           22346.6|\n",
      "|71dab1155600756af...|21874.049999999996|\n",
      "|912343626f370ead5...|          19457.04|\n",
      "|4412d97cb2093633a...|          19174.38|\n",
      "|9f5054bd9a3c71702...|18667.000000000004|\n",
      "|428a2f660dc84138d...|          18384.75|\n",
      "|3a213fcdfe7d98be7...|          17786.88|\n",
      "|f80549a97eb203e15...|           17671.0|\n",
      "|cf4659487be50c0c3...|          17069.76|\n",
      "|be382a9e1ed251281...|16313.600000000002|\n",
      "|637617b3ffe9e2f7a...|14963.639999999998|\n",
      "|c52c7fbe316b5b9d5...|14577.569999999998|\n",
      "|f60ce04ff8060152c...|14401.000000000002|\n",
      "|73c8ab38f07dc9438...|14196.280000000004|\n",
      "+--------------------+------------------+\n",
      "only showing top 20 rows\n",
      "\n"
     ]
    },
    {
     "name": "stderr",
     "output_type": "stream",
     "text": [
      "                                                                                \r"
     ]
    }
   ],
   "source": [
    "# Ordered Thing with maximum payment value\n",
    "\n",
    "order_with_total_value = order_with_details.groupBy('order_id').agg(sum('payment_value').alias('total_order_value'))\n",
    "\n",
    "max_payment = order_with_total_value.sort(desc('total_order_value'))\n",
    "\n",
    "max_payment.show()"
   ]
  },
  {
   "cell_type": "code",
   "execution_count": 62,
   "id": "a1edc179-9026-446a-815b-2f583db1636d",
   "metadata": {
    "tags": []
   },
   "outputs": [
    {
     "name": "stdout",
     "output_type": "stream",
     "text": [
      "+--------------------+-------------+\n",
      "|         customer_id|delivery_time|\n",
      "+--------------------+-------------+\n",
      "|9ef432eb625129730...|            8|\n",
      "|9ef432eb625129730...|            8|\n",
      "|9ef432eb625129730...|            8|\n",
      "|b0830fb4747a6c6d2...|           14|\n",
      "|41ce2a54c0b03bf34...|            9|\n",
      "|f88197465ea7920ad...|           14|\n",
      "|8ab97904e6daea886...|            3|\n",
      "|503740e9ca751ccdd...|           17|\n",
      "|ed0271e0b7da060a3...|      2915629|\n",
      "|9bdf08b4b3b52b552...|           10|\n",
      "|f54a9f0e6b351c431...|           10|\n",
      "|31ad1d1b63eb99624...|           18|\n",
      "|31ad1d1b63eb99624...|           18|\n",
      "|494dded5b201313c6...|           13|\n",
      "|494dded5b201313c6...|           13|\n",
      "|7711cf624183d843a...|            6|\n",
      "|d3e3b74c766bc6214...|           12|\n",
      "|19402a48fe860416a...|            5|\n",
      "|3df704f53d3f1d481...|           11|\n",
      "|3b6828a50ffe54694...|           14|\n",
      "+--------------------+-------------+\n",
      "only showing top 20 rows\n",
      "\n"
     ]
    }
   ],
   "source": [
    "## Time Calculation for delivery for each customer\n",
    "\n",
    "delivery_time = order_with_details.select(col('customer_id'),datediff(col('order_delivered_customer_date'),col('order_purchase_timestamp')).alias('delivery_time'))\n",
    "                                                                                                                                                    \n",
    "delivery_time.show()                                                                                                                                                  \n"
   ]
  },
  {
   "cell_type": "markdown",
   "id": "6a71d777-829d-42be-8b09-b336171f32a3",
   "metadata": {},
   "source": [
    "# 7. Advance Transformations"
   ]
  },
  {
   "cell_type": "code",
   "execution_count": 63,
   "id": "29d84f42-dfaa-4542-96b3-e58177d92430",
   "metadata": {
    "tags": []
   },
   "outputs": [
    {
     "name": "stdout",
     "output_type": "stream",
     "text": [
      "+--------------------+-------------+--------------------+--------------------+-------------------+------+-------------+\n",
      "|            order_id|order_item_id|          product_id|           seller_id|shipping_limit_date| price|freight_value|\n",
      "+--------------------+-------------+--------------------+--------------------+-------------------+------+-------------+\n",
      "|00010242fe8c5a6d1...|            1|4244733e06e7ecb49...|48436dade18ac8b2b...|2017-09-19 09:45:35|  58.9|        13.29|\n",
      "|00018f77f2f0320c5...|            1|e5f2d52b802189ee6...|dd7ddc04e1b6c2c61...|2017-05-03 11:05:13| 239.9|        19.93|\n",
      "|000229ec398224ef6...|            1|c777355d18b72b67a...|5b51032eddd242adc...|2018-01-18 14:48:30| 199.0|        17.87|\n",
      "|00024acbcdf0a6daa...|            1|7634da152a4610f15...|9d7a1d34a50524090...|2018-08-15 10:10:18| 12.99|        12.79|\n",
      "|00042b26cf59d7ce6...|            1|ac6c3623068f30de0...|df560393f3a51e745...|2017-02-13 13:57:51| 199.9|        18.14|\n",
      "|00048cc3ae777c65d...|            1|ef92defde845ab845...|6426d21aca402a131...|2017-05-23 03:55:27|  21.9|        12.69|\n",
      "|00054e8431b9d7675...|            1|8d4f2bb7e93e6710a...|7040e82f899a04d1b...|2017-12-14 12:10:31|  19.9|        11.85|\n",
      "|000576fe39319847c...|            1|557d850972a7d6f79...|5996cddab893a4652...|2018-07-10 12:30:45| 810.0|        70.75|\n",
      "|0005a1a1728c9d785...|            1|310ae3c140ff94b03...|a416b6a846a117243...|2018-03-26 18:31:29|145.95|        11.65|\n",
      "|0005f50442cb953dc...|            1|4535b0e1091c278df...|ba143b05f0110f0dc...|2018-07-06 14:10:56| 53.99|         11.4|\n",
      "|00061f2a7bc09da83...|            1|d63c1011f49d98b97...|cc419e0650a3c5ba7...|2018-03-29 22:28:09| 59.99|         8.88|\n",
      "|00063b381e2406b52...|            1|f177554ea93259a5b...|8602a61d680a10a82...|2018-07-31 17:30:39|  45.0|        12.98|\n",
      "|0006ec9db01a64e59...|            1|99a4788cb24856965...|4a3ca9315b744ce9f...|2018-07-26 17:24:20|  74.0|        23.32|\n",
      "|0008288aa423d2a3f...|            1|368c6c730842d7801...|1f50f920176fa81da...|2018-02-21 02:55:52|  49.9|        13.37|\n",
      "|0008288aa423d2a3f...|            2|368c6c730842d7801...|1f50f920176fa81da...|2018-02-21 02:55:52|  49.9|        13.37|\n",
      "|0009792311464db53...|            1|8cab8abac59158715...|530ec6109d11eaaf8...|2018-08-17 12:15:10|  99.9|        27.65|\n",
      "|0009c9a17f916a706...|            1|3f27ac8e699df3d30...|fcb5ace8bcc92f757...|2018-05-02 09:31:53| 639.0|        11.34|\n",
      "|000aed2e25dbad2f9...|            1|4fa33915031a8cde0...|fe2032dab1a61af87...|2018-05-16 20:57:03| 144.0|         8.77|\n",
      "|000c3e6612759851c...|            1|b50c950aba0dcead2...|218d46b86c1881d02...|2017-08-21 03:33:13|  99.0|        13.71|\n",
      "|000e562887b1f2006...|            1|5ed9eaf534f6936b5...|8cbac7e12637ed9cf...|2018-02-28 12:08:37|  25.0|        16.11|\n",
      "+--------------------+-------------+--------------------+--------------------+-------------------+------+-------------+\n",
      "only showing top 20 rows\n",
      "\n"
     ]
    }
   ],
   "source": [
    "order_item_df.show()"
   ]
  },
  {
   "cell_type": "code",
   "execution_count": 68,
   "id": "df495c89-5b5d-4b69-ba1a-61f8627b23f3",
   "metadata": {
    "tags": []
   },
   "outputs": [
    {
     "data": {
      "text/plain": [
       "(9.99, 890.0)"
      ]
     },
     "execution_count": 68,
     "metadata": {},
     "output_type": "execute_result"
    }
   ],
   "source": [
    "## Calculating Outliers in Price\n",
    "\n",
    "quantiles = order_item_df.approxQuantile('price',[0.01,0.99],0.0)\n",
    "\n",
    "low_cutoff,high_cutoff = quantiles[0],quantiles[1]\n",
    "\n",
    "low_cutoff,high_cutoff"
   ]
  },
  {
   "cell_type": "code",
   "execution_count": 69,
   "id": "bd4e971a-1da7-4c54-b05c-5bcfa0b4606f",
   "metadata": {
    "tags": []
   },
   "outputs": [
    {
     "name": "stderr",
     "output_type": "stream",
     "text": [
      "[Stage 99:=============================>                            (1 + 1) / 2]\r"
     ]
    },
    {
     "name": "stdout",
     "output_type": "stream",
     "text": [
      "+-------+------------------+\n",
      "|summary|             price|\n",
      "+-------+------------------+\n",
      "|  count|            112650|\n",
      "|   mean|120.65373901471354|\n",
      "| stddev|183.63392805026012|\n",
      "|    min|              0.85|\n",
      "|    25%|              39.9|\n",
      "|    50%|             74.99|\n",
      "|    75%|             134.9|\n",
      "|    max|            6735.0|\n",
      "+-------+------------------+\n",
      "\n"
     ]
    },
    {
     "name": "stderr",
     "output_type": "stream",
     "text": [
      "                                                                                \r"
     ]
    }
   ],
   "source": [
    "order_item_df.select('price').summary().show()"
   ]
  },
  {
   "cell_type": "code",
   "execution_count": 71,
   "id": "9da8ea43-976a-4c25-8057-17a345260dab",
   "metadata": {
    "tags": []
   },
   "outputs": [],
   "source": [
    "order_item_df_cleaned = order_item_df.filter((col('price') >=low_cutoff) & (col('price') <= high_cutoff))"
   ]
  },
  {
   "cell_type": "code",
   "execution_count": 72,
   "id": "744a2c6a-168c-4666-bdf9-e48a4d9139e8",
   "metadata": {
    "tags": []
   },
   "outputs": [
    {
     "name": "stdout",
     "output_type": "stream",
     "text": [
      "+--------------------+-------------+--------------------+--------------------+-------------------+------+-------------+\n",
      "|            order_id|order_item_id|          product_id|           seller_id|shipping_limit_date| price|freight_value|\n",
      "+--------------------+-------------+--------------------+--------------------+-------------------+------+-------------+\n",
      "|00010242fe8c5a6d1...|            1|4244733e06e7ecb49...|48436dade18ac8b2b...|2017-09-19 09:45:35|  58.9|        13.29|\n",
      "|00018f77f2f0320c5...|            1|e5f2d52b802189ee6...|dd7ddc04e1b6c2c61...|2017-05-03 11:05:13| 239.9|        19.93|\n",
      "|000229ec398224ef6...|            1|c777355d18b72b67a...|5b51032eddd242adc...|2018-01-18 14:48:30| 199.0|        17.87|\n",
      "|00024acbcdf0a6daa...|            1|7634da152a4610f15...|9d7a1d34a50524090...|2018-08-15 10:10:18| 12.99|        12.79|\n",
      "|00042b26cf59d7ce6...|            1|ac6c3623068f30de0...|df560393f3a51e745...|2017-02-13 13:57:51| 199.9|        18.14|\n",
      "|00048cc3ae777c65d...|            1|ef92defde845ab845...|6426d21aca402a131...|2017-05-23 03:55:27|  21.9|        12.69|\n",
      "|00054e8431b9d7675...|            1|8d4f2bb7e93e6710a...|7040e82f899a04d1b...|2017-12-14 12:10:31|  19.9|        11.85|\n",
      "|000576fe39319847c...|            1|557d850972a7d6f79...|5996cddab893a4652...|2018-07-10 12:30:45| 810.0|        70.75|\n",
      "|0005a1a1728c9d785...|            1|310ae3c140ff94b03...|a416b6a846a117243...|2018-03-26 18:31:29|145.95|        11.65|\n",
      "|0005f50442cb953dc...|            1|4535b0e1091c278df...|ba143b05f0110f0dc...|2018-07-06 14:10:56| 53.99|         11.4|\n",
      "|00061f2a7bc09da83...|            1|d63c1011f49d98b97...|cc419e0650a3c5ba7...|2018-03-29 22:28:09| 59.99|         8.88|\n",
      "|00063b381e2406b52...|            1|f177554ea93259a5b...|8602a61d680a10a82...|2018-07-31 17:30:39|  45.0|        12.98|\n",
      "|0006ec9db01a64e59...|            1|99a4788cb24856965...|4a3ca9315b744ce9f...|2018-07-26 17:24:20|  74.0|        23.32|\n",
      "|0008288aa423d2a3f...|            1|368c6c730842d7801...|1f50f920176fa81da...|2018-02-21 02:55:52|  49.9|        13.37|\n",
      "|0008288aa423d2a3f...|            2|368c6c730842d7801...|1f50f920176fa81da...|2018-02-21 02:55:52|  49.9|        13.37|\n",
      "|0009792311464db53...|            1|8cab8abac59158715...|530ec6109d11eaaf8...|2018-08-17 12:15:10|  99.9|        27.65|\n",
      "|0009c9a17f916a706...|            1|3f27ac8e699df3d30...|fcb5ace8bcc92f757...|2018-05-02 09:31:53| 639.0|        11.34|\n",
      "|000aed2e25dbad2f9...|            1|4fa33915031a8cde0...|fe2032dab1a61af87...|2018-05-16 20:57:03| 144.0|         8.77|\n",
      "|000c3e6612759851c...|            1|b50c950aba0dcead2...|218d46b86c1881d02...|2017-08-21 03:33:13|  99.0|        13.71|\n",
      "|000e562887b1f2006...|            1|5ed9eaf534f6936b5...|8cbac7e12637ed9cf...|2018-02-28 12:08:37|  25.0|        16.11|\n",
      "+--------------------+-------------+--------------------+--------------------+-------------------+------+-------------+\n",
      "only showing top 20 rows\n",
      "\n"
     ]
    }
   ],
   "source": [
    "order_item_df_cleaned.show()"
   ]
  },
  {
   "cell_type": "code",
   "execution_count": 75,
   "id": "8002bb17-babb-4ed3-a98e-8807f734bccc",
   "metadata": {
    "tags": []
   },
   "outputs": [
    {
     "name": "stdout",
     "output_type": "stream",
     "text": [
      "+--------------------+---------------------+-------------------+--------------------------+------------------+----------------+-----------------+-----------------+----------------+\n",
      "|          product_id|product_category_name|product_name_lenght|product_description_lenght|product_photos_qty|product_weight_g|product_length_cm|product_height_cm|product_width_cm|\n",
      "+--------------------+---------------------+-------------------+--------------------------+------------------+----------------+-----------------+-----------------+----------------+\n",
      "|1e9e8ef04dbcff454...|           perfumaria|                 40|                       287|                 1|             225|               16|               10|              14|\n",
      "|3aa071139cb16b67c...|                artes|                 44|                       276|                 1|            1000|               30|               18|              20|\n",
      "|96bd76ec8810374ed...|        esporte_lazer|                 46|                       250|                 1|             154|               18|                9|              15|\n",
      "|cef67bcfe19066a93...|                bebes|                 27|                       261|                 1|             371|               26|                4|              26|\n",
      "|9dc1a7de274444849...| utilidades_domest...|                 37|                       402|                 4|             625|               20|               17|              13|\n",
      "|41d3672d4792049fa...| instrumentos_musi...|                 60|                       745|                 1|             200|               38|                5|              11|\n",
      "|732bd381ad09e530f...|           cool_stuff|                 56|                      1272|                 4|           18350|               70|               24|              44|\n",
      "|2548af3e6e77a690c...|     moveis_decoracao|                 56|                       184|                 2|             900|               40|                8|              40|\n",
      "|37cc742be07708b53...|     eletrodomesticos|                 57|                       163|                 1|             400|               27|               13|              17|\n",
      "|8c92109888e8cdf9d...|           brinquedos|                 36|                      1156|                 1|             600|               17|               10|              12|\n",
      "|14aa47b7fe5c25522...|      cama_mesa_banho|                 54|                       630|                 1|            1100|               16|               10|              16|\n",
      "|03b63c5fc16691530...|                bebes|                 49|                       728|                 4|            7150|               50|               19|              45|\n",
      "|cf55509ea8edaaac1...| instrumentos_musi...|                 43|                      1827|                 3|             250|               17|                7|              17|\n",
      "|7bb6f29c2be577161...|     moveis_decoracao|                 51|                      2083|                 2|             600|               68|               11|              13|\n",
      "|eb31436580a610f20...| construcao_ferram...|                 59|                      1602|                 4|             200|               17|                7|              17|\n",
      "|3bb7f144022e67327...|        esporte_lazer|                 22|                      3021|                 1|             800|               16|                2|              11|\n",
      "|6a2fb4dd53d2cdb88...|           perfumaria|                 39|                       346|                 2|             400|               27|                5|              20|\n",
      "|a1b71017a84f92fd8...| informatica_acess...|                 59|                       636|                 1|             900|               40|               15|              20|\n",
      "|a0736b92e52f6cead...|     moveis_decoracao|                 56|                       296|                 2|            1700|              100|                7|              15|\n",
      "|f53103a77d9cf245e...|      cama_mesa_banho|                 52|                       206|                 1|             500|               16|               10|              16|\n",
      "+--------------------+---------------------+-------------------+--------------------------+------------------+----------------+-----------------+-----------------+----------------+\n",
      "only showing top 20 rows\n",
      "\n"
     ]
    }
   ],
   "source": [
    "products_df.show()"
   ]
  },
  {
   "cell_type": "code",
   "execution_count": 77,
   "id": "fe7ea243-779a-4eda-a6ca-cc89d8a41ced",
   "metadata": {
    "tags": []
   },
   "outputs": [],
   "source": [
    "products_df_cleaned = products_df.withColumn('product_size_category',when(col('product_weight_g') <500,'Small') .when(col('product_weight_g').between(500,2000),'Medium').otherwise('Large'))"
   ]
  },
  {
   "cell_type": "code",
   "execution_count": 78,
   "id": "1afdaef6-ea4e-4304-b6be-52be3861143e",
   "metadata": {
    "tags": []
   },
   "outputs": [
    {
     "name": "stdout",
     "output_type": "stream",
     "text": [
      "+--------------------+---------------------+-------------------+--------------------------+------------------+----------------+-----------------+-----------------+----------------+---------------------+\n",
      "|          product_id|product_category_name|product_name_lenght|product_description_lenght|product_photos_qty|product_weight_g|product_length_cm|product_height_cm|product_width_cm|product_size_category|\n",
      "+--------------------+---------------------+-------------------+--------------------------+------------------+----------------+-----------------+-----------------+----------------+---------------------+\n",
      "|1e9e8ef04dbcff454...|           perfumaria|                 40|                       287|                 1|             225|               16|               10|              14|                Small|\n",
      "|3aa071139cb16b67c...|                artes|                 44|                       276|                 1|            1000|               30|               18|              20|               Medium|\n",
      "|96bd76ec8810374ed...|        esporte_lazer|                 46|                       250|                 1|             154|               18|                9|              15|                Small|\n",
      "|cef67bcfe19066a93...|                bebes|                 27|                       261|                 1|             371|               26|                4|              26|                Small|\n",
      "|9dc1a7de274444849...| utilidades_domest...|                 37|                       402|                 4|             625|               20|               17|              13|               Medium|\n",
      "|41d3672d4792049fa...| instrumentos_musi...|                 60|                       745|                 1|             200|               38|                5|              11|                Small|\n",
      "|732bd381ad09e530f...|           cool_stuff|                 56|                      1272|                 4|           18350|               70|               24|              44|                Large|\n",
      "|2548af3e6e77a690c...|     moveis_decoracao|                 56|                       184|                 2|             900|               40|                8|              40|               Medium|\n",
      "|37cc742be07708b53...|     eletrodomesticos|                 57|                       163|                 1|             400|               27|               13|              17|                Small|\n",
      "|8c92109888e8cdf9d...|           brinquedos|                 36|                      1156|                 1|             600|               17|               10|              12|               Medium|\n",
      "|14aa47b7fe5c25522...|      cama_mesa_banho|                 54|                       630|                 1|            1100|               16|               10|              16|               Medium|\n",
      "|03b63c5fc16691530...|                bebes|                 49|                       728|                 4|            7150|               50|               19|              45|                Large|\n",
      "|cf55509ea8edaaac1...| instrumentos_musi...|                 43|                      1827|                 3|             250|               17|                7|              17|                Small|\n",
      "|7bb6f29c2be577161...|     moveis_decoracao|                 51|                      2083|                 2|             600|               68|               11|              13|               Medium|\n",
      "|eb31436580a610f20...| construcao_ferram...|                 59|                      1602|                 4|             200|               17|                7|              17|                Small|\n",
      "|3bb7f144022e67327...|        esporte_lazer|                 22|                      3021|                 1|             800|               16|                2|              11|               Medium|\n",
      "|6a2fb4dd53d2cdb88...|           perfumaria|                 39|                       346|                 2|             400|               27|                5|              20|                Small|\n",
      "|a1b71017a84f92fd8...| informatica_acess...|                 59|                       636|                 1|             900|               40|               15|              20|               Medium|\n",
      "|a0736b92e52f6cead...|     moveis_decoracao|                 56|                       296|                 2|            1700|              100|                7|              15|               Medium|\n",
      "|f53103a77d9cf245e...|      cama_mesa_banho|                 52|                       206|                 1|             500|               16|               10|              16|               Medium|\n",
      "+--------------------+---------------------+-------------------+--------------------------+------------------+----------------+-----------------+-----------------+----------------+---------------------+\n",
      "only showing top 20 rows\n",
      "\n"
     ]
    }
   ],
   "source": [
    "products_df_cleaned.show()"
   ]
  },
  {
   "cell_type": "code",
   "execution_count": null,
   "id": "a9fc2487-83f1-40f5-bf95-5e4b6b5ca2be",
   "metadata": {},
   "outputs": [],
   "source": []
  },
  {
   "cell_type": "code",
   "execution_count": null,
   "id": "e1865155-0e3f-4dea-9823-bcdb33c571b3",
   "metadata": {},
   "outputs": [],
   "source": []
  },
  {
   "cell_type": "code",
   "execution_count": null,
   "id": "22f30282-4aa9-4ece-88cc-491064080da0",
   "metadata": {},
   "outputs": [],
   "source": []
  },
  {
   "cell_type": "code",
   "execution_count": null,
   "id": "254b4db4-ccab-4f77-8916-11bb3eed9c17",
   "metadata": {},
   "outputs": [],
   "source": []
  },
  {
   "cell_type": "code",
   "execution_count": null,
   "id": "53d4cc17-a055-41f5-acee-297d6a1ebea4",
   "metadata": {},
   "outputs": [],
   "source": []
  },
  {
   "cell_type": "code",
   "execution_count": 73,
   "id": "2d8490a7-bb16-42ac-a174-3e3b6fa87222",
   "metadata": {
    "tags": []
   },
   "outputs": [],
   "source": [
    "!hadoop fs -mkdir /data/olist_proc"
   ]
  },
  {
   "cell_type": "code",
   "execution_count": 74,
   "id": "3179fcca-cf71-4352-bf30-f2668d869c0c",
   "metadata": {
    "tags": []
   },
   "outputs": [
    {
     "name": "stderr",
     "output_type": "stream",
     "text": [
      "                                                                                \r"
     ]
    }
   ],
   "source": [
    "order_with_details.write.mode('overwrite').parquet('/data/olist_proc/cleaned_data.parquet')"
   ]
  },
  {
   "cell_type": "code",
   "execution_count": 80,
   "id": "5206b14d-2a95-4510-b179-3723d5973e63",
   "metadata": {
    "tags": []
   },
   "outputs": [
    {
     "name": "stderr",
     "output_type": "stream",
     "text": [
      "                                                                                \r"
     ]
    }
   ],
   "source": [
    "products_df_cleaned.write.mode('overwrite').parquet('/data/olist_proc/product_df_cleaned.parquet')"
   ]
  },
  {
   "cell_type": "code",
   "execution_count": 81,
   "id": "e18b5962-ec01-4c50-89d7-6707b6582723",
   "metadata": {
    "tags": []
   },
   "outputs": [
    {
     "name": "stdout",
     "output_type": "stream",
     "text": [
      "Found 2 items\n",
      "drwxr-xr-x   - root hadoop          0 2025-10-17 15:04 /data/olist_proc/cleaned_data.parquet\n",
      "drwxr-xr-x   - root hadoop          0 2025-10-17 15:11 /data/olist_proc/product_df_cleaned.parquet\n"
     ]
    }
   ],
   "source": [
    "!hadoop fs -ls /data/olist_proc"
   ]
  },
  {
   "cell_type": "code",
   "execution_count": 83,
   "id": "c0938746-0b6a-440d-bc97-00185e38d2d7",
   "metadata": {
    "tags": []
   },
   "outputs": [
    {
     "name": "stdout",
     "output_type": "stream",
     "text": [
      "root\n",
      " |-- customer_id: string (nullable = true)\n",
      " |-- order_id: string (nullable = true)\n",
      " |-- order_status: string (nullable = true)\n",
      " |-- order_purchase_timestamp: date (nullable = true)\n",
      " |-- order_approved_at: timestamp (nullable = true)\n",
      " |-- order_delivered_carrier_date: timestamp (nullable = true)\n",
      " |-- order_delivered_customer_date: timestamp (nullable = true)\n",
      " |-- order_estimated_delivery_date: timestamp (nullable = true)\n",
      " |-- order_item_id: integer (nullable = true)\n",
      " |-- product_id: string (nullable = true)\n",
      " |-- seller_id: string (nullable = true)\n",
      " |-- shipping_limit_date: timestamp (nullable = true)\n",
      " |-- price: double (nullable = true)\n",
      " |-- freight_value: double (nullable = true)\n",
      " |-- payment_sequential: integer (nullable = true)\n",
      " |-- payment_type: string (nullable = true)\n",
      " |-- payment_installments: integer (nullable = true)\n",
      " |-- payment_value: double (nullable = true)\n",
      " |-- payment_value_imputed: double (nullable = true)\n",
      " |-- customer_unique_id: string (nullable = true)\n",
      " |-- customer_zip_code_prefix: string (nullable = true)\n",
      " |-- customer_city: string (nullable = true)\n",
      " |-- customer_state: string (nullable = true)\n",
      "\n"
     ]
    }
   ],
   "source": [
    "order_with_details.printSchema()"
   ]
  },
  {
   "cell_type": "code",
   "execution_count": 84,
   "id": "2f5a4215-2b27-4360-b7c5-4b014c629c7a",
   "metadata": {
    "tags": []
   },
   "outputs": [
    {
     "name": "stdout",
     "output_type": "stream",
     "text": [
      "root\n",
      " |-- product_id: string (nullable = true)\n",
      " |-- product_category_name: string (nullable = true)\n",
      " |-- product_name_lenght: integer (nullable = true)\n",
      " |-- product_description_lenght: integer (nullable = true)\n",
      " |-- product_photos_qty: integer (nullable = true)\n",
      " |-- product_weight_g: integer (nullable = true)\n",
      " |-- product_length_cm: integer (nullable = true)\n",
      " |-- product_height_cm: integer (nullable = true)\n",
      " |-- product_width_cm: integer (nullable = true)\n",
      " |-- product_size_category: string (nullable = false)\n",
      "\n"
     ]
    }
   ],
   "source": [
    "products_df_cleaned.printSchema()"
   ]
  },
  {
   "cell_type": "code",
   "execution_count": 86,
   "id": "52a11cbc-124c-40a0-b0f5-5a294ef9d7dc",
   "metadata": {
    "tags": []
   },
   "outputs": [
    {
     "name": "stderr",
     "output_type": "stream",
     "text": [
      "UsageError: Cell magic `%%sql` not found.\n"
     ]
    }
   ],
   "source": [
    "%%sql\n",
    "CREATE EXTERNAL TABLE cleaned_payments(\n",
    "    product_id: STRING \n",
    "    product_category_name: STRING\n",
    "    product_name_lenght: STRING\n",
    "    product_description_lenght: INT\n",
    "    product_photos_qty: INT \n",
    "    product_weight_g: INT \n",
    "    product_length_cm: INT \n",
    "    product_height_cm: INT \n",
    "    product_width_cm: INT \n",
    "    product_size_category: STRING\n",
    ")\n",
    "STORED AS PARQUET\n",
    "\n",
    "LOCATION '/data/olist_proc/product_df_cleaned.parquet';"
   ]
  },
  {
   "cell_type": "code",
   "execution_count": 87,
   "id": "a25c8ab1-4ca0-4e7b-81b0-9a90b8fe556a",
   "metadata": {
    "tags": []
   },
   "outputs": [],
   "source": [
    "spark.stop()"
   ]
  },
  {
   "cell_type": "code",
   "execution_count": null,
   "id": "b9b7ea64-0436-47bd-99cf-1a8ce58a5a59",
   "metadata": {},
   "outputs": [],
   "source": []
  }
 ],
 "metadata": {
  "kernelspec": {
   "display_name": "Python 3",
   "language": "python",
   "name": "python3"
  },
  "language_info": {
   "codemirror_mode": {
    "name": "ipython",
    "version": 3
   },
   "file_extension": ".py",
   "mimetype": "text/x-python",
   "name": "python",
   "nbconvert_exporter": "python",
   "pygments_lexer": "ipython3",
   "version": "3.11.8"
  }
 },
 "nbformat": 4,
 "nbformat_minor": 5
}