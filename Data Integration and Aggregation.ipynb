{
 "cells": [
  {
   "cell_type": "code",
   "execution_count": 3,
   "id": "9d6d47db-2545-45ae-a92c-58e7ee8d3280",
   "metadata": {
    "tags": []
   },
   "outputs": [
    {
     "name": "stderr",
     "output_type": "stream",
     "text": [
      "25/10/18 04:47:01 WARN SparkSession: Using an existing Spark session; only runtime SQL configurations will take effect.\n"
     ]
    }
   ],
   "source": [
    "from pyspark.sql import SparkSession\n",
    "\n",
    "spark = SparkSession.builder \\\n",
    "    .appName('OlistData') \\\n",
    "    .getOrCreate()"
   ]
  },
  {
   "cell_type": "code",
   "execution_count": 4,
   "id": "80d63520-84d6-47d3-9fc8-3eb272d47fbf",
   "metadata": {
    "tags": []
   },
   "outputs": [],
   "source": [
    "hdfs_path = '/data/olist/'"
   ]
  },
  {
   "cell_type": "code",
   "execution_count": 5,
   "id": "2f218785-624f-4331-8563-0ff616fc82cd",
   "metadata": {
    "tags": []
   },
   "outputs": [
    {
     "name": "stderr",
     "output_type": "stream",
     "text": [
      "                                                                                \r"
     ]
    }
   ],
   "source": [
    "customers_df = spark.read.csv(hdfs_path + 'olist_customers_dataset.csv',header=True,inferSchema=True)\n",
    "orders_df = spark.read.csv(hdfs_path + 'olist_orders_dataset.csv',header=True,inferSchema=True)\n",
    "order_item_df = spark.read.csv(hdfs_path + 'olist_order_items_dataset.csv',header=True,inferSchema=True)\n",
    "payments_df = spark.read.csv(hdfs_path + 'olist_order_payments_dataset.csv',header=True,inferSchema=True)\n",
    "reviews_df = spark.read.csv(hdfs_path + 'olist_order_reviews_dataset.csv',header=True,inferSchema=True)\n",
    "products_df = spark.read.csv(hdfs_path + 'olist_products_dataset.csv',header=True,inferSchema=True)\n",
    "sellers_df = spark.read.csv(hdfs_path + 'olist_sellers_dataset.csv',header=True,inferSchema=True)\n",
    "geolocation_df = spark.read.csv(hdfs_path + 'olist_geolocation_dataset.csv',header=True,inferSchema=True)\n",
    "category_translation_df = spark.read.csv(hdfs_path + 'product_category_name_translation.csv',header=True,inferSchema=True)"
   ]
  },
  {
   "cell_type": "code",
   "execution_count": 6,
   "id": "55ae452b-7206-41e8-8bd4-75d59008c6e3",
   "metadata": {
    "tags": []
   },
   "outputs": [
    {
     "data": {
      "text/plain": [
       "DataFrame[order_id: string, order_item_id: int, product_id: string, seller_id: string, shipping_limit_date: timestamp, price: double, freight_value: double]"
      ]
     },
     "execution_count": 6,
     "metadata": {},
     "output_type": "execute_result"
    }
   ],
   "source": [
    "## caching Frequency used data for better performance\n",
    "\n",
    "orders_df.cache()\n",
    "customers_df.cache()\n",
    "order_item_df.cache()\n"
   ]
  },
  {
   "cell_type": "markdown",
   "id": "51e941c6-48e9-4466-bbb8-a94a485b266c",
   "metadata": {},
   "source": [
    "# 1. Joins for Data Integration"
   ]
  },
  {
   "cell_type": "code",
   "execution_count": 7,
   "id": "25095735-4693-484c-a6da-1f807f5c6698",
   "metadata": {
    "tags": []
   },
   "outputs": [],
   "source": [
    "orders_items_joined_df = orders_df.join(order_item_df,'order_id','inner')"
   ]
  },
  {
   "cell_type": "code",
   "execution_count": 8,
   "id": "caf48e09-518d-4729-b0c7-1635ff3a39dd",
   "metadata": {
    "tags": []
   },
   "outputs": [
    {
     "name": "stderr",
     "output_type": "stream",
     "text": [
      "                                                                                \r"
     ]
    },
    {
     "name": "stdout",
     "output_type": "stream",
     "text": [
      "+--------------------+--------------------+------------+------------------------+-------------------+----------------------------+-----------------------------+-----------------------------+-------------+--------------------+--------------------+-------------------+------+-------------+\n",
      "|            order_id|         customer_id|order_status|order_purchase_timestamp|  order_approved_at|order_delivered_carrier_date|order_delivered_customer_date|order_estimated_delivery_date|order_item_id|          product_id|           seller_id|shipping_limit_date| price|freight_value|\n",
      "+--------------------+--------------------+------------+------------------------+-------------------+----------------------------+-----------------------------+-----------------------------+-------------+--------------------+--------------------+-------------------+------+-------------+\n",
      "|00010242fe8c5a6d1...|3ce436f183e68e078...|   delivered|     2017-09-13 08:59:02|2017-09-13 09:45:35|         2017-09-19 18:34:16|          2017-09-20 23:43:48|          2017-09-29 00:00:00|            1|4244733e06e7ecb49...|48436dade18ac8b2b...|2017-09-19 09:45:35|  58.9|        13.29|\n",
      "|00018f77f2f0320c5...|f6dd3ec061db4e398...|   delivered|     2017-04-26 10:53:06|2017-04-26 11:05:13|         2017-05-04 14:35:00|          2017-05-12 16:04:24|          2017-05-15 00:00:00|            1|e5f2d52b802189ee6...|dd7ddc04e1b6c2c61...|2017-05-03 11:05:13| 239.9|        19.93|\n",
      "|000229ec398224ef6...|6489ae5e4333f3693...|   delivered|     2018-01-14 14:33:31|2018-01-14 14:48:30|         2018-01-16 12:36:48|          2018-01-22 13:19:16|          2018-02-05 00:00:00|            1|c777355d18b72b67a...|5b51032eddd242adc...|2018-01-18 14:48:30| 199.0|        17.87|\n",
      "|00024acbcdf0a6daa...|d4eb9395c8c0431ee...|   delivered|     2018-08-08 10:00:35|2018-08-08 10:10:18|         2018-08-10 13:28:00|          2018-08-14 13:32:39|          2018-08-20 00:00:00|            1|7634da152a4610f15...|9d7a1d34a50524090...|2018-08-15 10:10:18| 12.99|        12.79|\n",
      "|00042b26cf59d7ce6...|58dbd0b2d70206bf4...|   delivered|     2017-02-04 13:57:51|2017-02-04 14:10:13|         2017-02-16 09:46:09|          2017-03-01 16:42:31|          2017-03-17 00:00:00|            1|ac6c3623068f30de0...|df560393f3a51e745...|2017-02-13 13:57:51| 199.9|        18.14|\n",
      "|00048cc3ae777c65d...|816cbea969fe5b689...|   delivered|     2017-05-15 21:42:34|2017-05-17 03:55:27|         2017-05-17 11:05:55|          2017-05-22 13:44:35|          2017-06-06 00:00:00|            1|ef92defde845ab845...|6426d21aca402a131...|2017-05-23 03:55:27|  21.9|        12.69|\n",
      "|00054e8431b9d7675...|32e2e6ab09e778d99...|   delivered|     2017-12-10 11:53:48|2017-12-10 12:10:31|         2017-12-12 01:07:48|          2017-12-18 22:03:38|          2018-01-04 00:00:00|            1|8d4f2bb7e93e6710a...|7040e82f899a04d1b...|2017-12-14 12:10:31|  19.9|        11.85|\n",
      "|000576fe39319847c...|9ed5e522dd9dd85b4...|   delivered|     2018-07-04 12:08:27|2018-07-05 16:35:48|         2018-07-05 12:15:00|          2018-07-09 14:04:07|          2018-07-25 00:00:00|            1|557d850972a7d6f79...|5996cddab893a4652...|2018-07-10 12:30:45| 810.0|        70.75|\n",
      "|0005a1a1728c9d785...|16150771dfd477626...|   delivered|     2018-03-19 18:40:33|2018-03-20 18:35:21|         2018-03-28 00:37:42|          2018-03-29 18:17:31|          2018-03-29 00:00:00|            1|310ae3c140ff94b03...|a416b6a846a117243...|2018-03-26 18:31:29|145.95|        11.65|\n",
      "|0005f50442cb953dc...|351d3cb2cee3c7fd0...|   delivered|     2018-07-02 13:59:39|2018-07-02 14:10:56|         2018-07-03 14:25:00|          2018-07-04 17:28:31|          2018-07-23 00:00:00|            1|4535b0e1091c278df...|ba143b05f0110f0dc...|2018-07-06 14:10:56| 53.99|         11.4|\n",
      "|00061f2a7bc09da83...|c6fc061d86fab1e2b...|   delivered|     2018-03-24 22:16:10|2018-03-24 22:28:09|         2018-03-27 05:26:55|          2018-03-29 00:04:19|          2018-04-09 00:00:00|            1|d63c1011f49d98b97...|cc419e0650a3c5ba7...|2018-03-29 22:28:09| 59.99|         8.88|\n",
      "|00063b381e2406b52...|6a899e55865de6549...|   delivered|     2018-07-27 17:21:27|2018-07-27 18:00:06|         2018-07-30 14:52:00|          2018-08-07 13:56:52|          2018-08-07 00:00:00|            1|f177554ea93259a5b...|8602a61d680a10a82...|2018-07-31 17:30:39|  45.0|        12.98|\n",
      "|0006ec9db01a64e59...|5d178120c29c61748...|   delivered|     2018-07-24 17:04:17|2018-07-24 17:24:20|         2018-07-25 11:02:00|          2018-07-31 01:04:15|          2018-08-22 00:00:00|            1|99a4788cb24856965...|4a3ca9315b744ce9f...|2018-07-26 17:24:20|  74.0|        23.32|\n",
      "|0008288aa423d2a3f...|2355af7c75e7c98b4...|   delivered|     2018-02-13 22:10:21|2018-02-15 03:55:52|         2018-02-20 18:23:28|          2018-02-26 13:55:22|          2018-03-06 00:00:00|            1|368c6c730842d7801...|1f50f920176fa81da...|2018-02-21 02:55:52|  49.9|        13.37|\n",
      "|0008288aa423d2a3f...|2355af7c75e7c98b4...|   delivered|     2018-02-13 22:10:21|2018-02-15 03:55:52|         2018-02-20 18:23:28|          2018-02-26 13:55:22|          2018-03-06 00:00:00|            2|368c6c730842d7801...|1f50f920176fa81da...|2018-02-21 02:55:52|  49.9|        13.37|\n",
      "|0009792311464db53...|2a30c97668e81df7c...|   delivered|     2018-08-14 20:43:09|2018-08-15 12:15:10|         2018-08-15 15:28:00|          2018-08-22 12:02:27|          2018-08-28 00:00:00|            1|8cab8abac59158715...|530ec6109d11eaaf8...|2018-08-17 12:15:10|  99.9|        27.65|\n",
      "|0009c9a17f916a706...|8a250edc40ebc5c39...|   delivered|     2018-04-25 09:10:41|2018-04-25 09:33:19|         2018-04-27 15:14:00|          2018-04-30 17:54:25|          2018-05-09 00:00:00|            1|3f27ac8e699df3d30...|fcb5ace8bcc92f757...|2018-05-02 09:31:53| 639.0|        11.34|\n",
      "|000aed2e25dbad2f9...|fff5169e583fd07fa...|   delivered|     2018-05-11 20:33:38|2018-05-11 20:57:03|         2018-05-16 14:26:00|          2018-05-18 16:46:31|          2018-05-22 00:00:00|            1|4fa33915031a8cde0...|fe2032dab1a61af87...|2018-05-16 20:57:03| 144.0|         8.77|\n",
      "|000c3e6612759851c...|3773bcf1a6fbd2923...|   delivered|     2017-08-12 10:08:57|2017-08-15 03:35:32|         2017-08-15 15:32:51|          2017-08-19 15:22:17|          2017-09-01 00:00:00|            1|b50c950aba0dcead2...|218d46b86c1881d02...|2017-08-21 03:33:13|  99.0|        13.71|\n",
      "|000e562887b1f2006...|2b01d668726fb0b75...|   delivered|     2018-02-22 11:54:42|2018-02-22 12:08:37|         2018-02-26 14:18:32|          2018-03-12 18:46:34|          2018-03-19 00:00:00|            1|5ed9eaf534f6936b5...|8cbac7e12637ed9cf...|2018-02-28 12:08:37|  25.0|        16.11|\n",
      "+--------------------+--------------------+------------+------------------------+-------------------+----------------------------+-----------------------------+-----------------------------+-------------+--------------------+--------------------+-------------------+------+-------------+\n",
      "only showing top 20 rows\n",
      "\n"
     ]
    }
   ],
   "source": [
    "orders_items_joined_df.show()"
   ]
  },
  {
   "cell_type": "code",
   "execution_count": 9,
   "id": "c870ca83-62ae-44a7-8cb3-80cccf47a34e",
   "metadata": {
    "tags": []
   },
   "outputs": [],
   "source": [
    "order_items_products_df = orders_items_joined_df.join(products_df,'product_id','inner')"
   ]
  },
  {
   "cell_type": "code",
   "execution_count": 10,
   "id": "713ecb60-39e1-46ad-818a-e32015a93c0a",
   "metadata": {
    "tags": []
   },
   "outputs": [],
   "source": [
    "orders_items_products_sellers_df = order_items_products_df.join(sellers_df,'seller_id','inner')"
   ]
  },
  {
   "cell_type": "code",
   "execution_count": 11,
   "id": "3ddc57bc-8c25-461a-9e03-7401d075a0d4",
   "metadata": {
    "tags": []
   },
   "outputs": [],
   "source": [
    "full_orders_df = orders_items_products_sellers_df.join(customers_df,'customer_id','inner')"
   ]
  },
  {
   "cell_type": "code",
   "execution_count": 12,
   "id": "fea2aac1-b8bb-44bf-8787-17cba37631db",
   "metadata": {
    "tags": []
   },
   "outputs": [],
   "source": [
    "full_orders_df = full_orders_df.join(geolocation_df,full_orders_df.customer_zip_code_prefix == geolocation_df.geolocation_zip_code_prefix,'left')"
   ]
  },
  {
   "cell_type": "code",
   "execution_count": 13,
   "id": "ea7b7df2-6f92-4db5-ba9b-8e5b0314dbbb",
   "metadata": {
    "tags": []
   },
   "outputs": [],
   "source": [
    "full_orders_df = full_orders_df.join(reviews_df,'order_id','left')"
   ]
  },
  {
   "cell_type": "code",
   "execution_count": 14,
   "id": "26fef7b7-1abe-4ba5-ab9e-bd0944a05269",
   "metadata": {
    "tags": []
   },
   "outputs": [],
   "source": [
    "full_orders_df = full_orders_df.join(payments_df,'order_id','left')"
   ]
  },
  {
   "cell_type": "code",
   "execution_count": 15,
   "id": "188a886d-fd5a-476d-bf68-e2fd910c627a",
   "metadata": {
    "tags": []
   },
   "outputs": [
    {
     "name": "stderr",
     "output_type": "stream",
     "text": [
      "25/10/18 04:47:31 WARN SparkStringUtils: Truncated the string representation of a plan since it was too large. This behavior can be adjusted by setting 'spark.sql.debug.maxToStringFields'.\n"
     ]
    },
    {
     "data": {
      "text/plain": [
       "DataFrame[order_id: string, customer_id: string, seller_id: string, product_id: string, order_status: string, order_purchase_timestamp: timestamp, order_approved_at: timestamp, order_delivered_carrier_date: timestamp, order_delivered_customer_date: timestamp, order_estimated_delivery_date: timestamp, order_item_id: int, shipping_limit_date: timestamp, price: double, freight_value: double, product_category_name: string, product_name_lenght: int, product_description_lenght: int, product_photos_qty: int, product_weight_g: int, product_length_cm: int, product_height_cm: int, product_width_cm: int, seller_zip_code_prefix: int, seller_city: string, seller_state: string, customer_unique_id: string, customer_zip_code_prefix: int, customer_city: string, customer_state: string, geolocation_zip_code_prefix: int, geolocation_lat: double, geolocation_lng: double, geolocation_city: string, geolocation_state: string, review_id: string, review_score: string, review_comment_title: string, review_comment_message: string, review_creation_date: string, review_answer_timestamp: string, payment_sequential: int, payment_type: string, payment_installments: int, payment_value: double]"
      ]
     },
     "execution_count": 15,
     "metadata": {},
     "output_type": "execute_result"
    }
   ],
   "source": [
    "full_orders_df.cache()"
   ]
  },
  {
   "cell_type": "markdown",
   "id": "fdbc5eaa-660b-4485-93be-c9a775acec17",
   "metadata": {},
   "source": [
    "# 2. Aggregation"
   ]
  },
  {
   "cell_type": "code",
   "execution_count": 16,
   "id": "6e154d17-7362-4f11-82a8-6163fbfdfd6f",
   "metadata": {
    "tags": []
   },
   "outputs": [],
   "source": [
    "from pyspark.sql.functions import *"
   ]
  },
  {
   "cell_type": "code",
   "execution_count": 17,
   "id": "2e7cba84-438a-47aa-a8fb-a481ac0f4f50",
   "metadata": {
    "tags": []
   },
   "outputs": [
    {
     "name": "stdout",
     "output_type": "stream",
     "text": [
      "root\n",
      " |-- order_id: string (nullable = true)\n",
      " |-- customer_id: string (nullable = true)\n",
      " |-- seller_id: string (nullable = true)\n",
      " |-- product_id: string (nullable = true)\n",
      " |-- order_status: string (nullable = true)\n",
      " |-- order_purchase_timestamp: timestamp (nullable = true)\n",
      " |-- order_approved_at: timestamp (nullable = true)\n",
      " |-- order_delivered_carrier_date: timestamp (nullable = true)\n",
      " |-- order_delivered_customer_date: timestamp (nullable = true)\n",
      " |-- order_estimated_delivery_date: timestamp (nullable = true)\n",
      " |-- order_item_id: integer (nullable = true)\n",
      " |-- shipping_limit_date: timestamp (nullable = true)\n",
      " |-- price: double (nullable = true)\n",
      " |-- freight_value: double (nullable = true)\n",
      " |-- product_category_name: string (nullable = true)\n",
      " |-- product_name_lenght: integer (nullable = true)\n",
      " |-- product_description_lenght: integer (nullable = true)\n",
      " |-- product_photos_qty: integer (nullable = true)\n",
      " |-- product_weight_g: integer (nullable = true)\n",
      " |-- product_length_cm: integer (nullable = true)\n",
      " |-- product_height_cm: integer (nullable = true)\n",
      " |-- product_width_cm: integer (nullable = true)\n",
      " |-- seller_zip_code_prefix: integer (nullable = true)\n",
      " |-- seller_city: string (nullable = true)\n",
      " |-- seller_state: string (nullable = true)\n",
      " |-- customer_unique_id: string (nullable = true)\n",
      " |-- customer_zip_code_prefix: integer (nullable = true)\n",
      " |-- customer_city: string (nullable = true)\n",
      " |-- customer_state: string (nullable = true)\n",
      " |-- geolocation_zip_code_prefix: integer (nullable = true)\n",
      " |-- geolocation_lat: double (nullable = true)\n",
      " |-- geolocation_lng: double (nullable = true)\n",
      " |-- geolocation_city: string (nullable = true)\n",
      " |-- geolocation_state: string (nullable = true)\n",
      " |-- review_id: string (nullable = true)\n",
      " |-- review_score: string (nullable = true)\n",
      " |-- review_comment_title: string (nullable = true)\n",
      " |-- review_comment_message: string (nullable = true)\n",
      " |-- review_creation_date: string (nullable = true)\n",
      " |-- review_answer_timestamp: string (nullable = true)\n",
      " |-- payment_sequential: integer (nullable = true)\n",
      " |-- payment_type: string (nullable = true)\n",
      " |-- payment_installments: integer (nullable = true)\n",
      " |-- payment_value: double (nullable = true)\n",
      "\n"
     ]
    }
   ],
   "source": [
    "full_orders_df.printSchema()"
   ]
  },
  {
   "cell_type": "code",
   "execution_count": 18,
   "id": "6599b157-cabd-48d8-93d5-b0bdfb0f9207",
   "metadata": {
    "tags": []
   },
   "outputs": [],
   "source": [
    "## Total Revenue Per Seller\n",
    "\n",
    "seller_revenue_df = full_orders_df.groupBy('seller_id').agg(sum('price'))"
   ]
  },
  {
   "cell_type": "code",
   "execution_count": 19,
   "id": "7faeb8a8-541d-4711-a79b-6e609da3b4ce",
   "metadata": {
    "tags": []
   },
   "outputs": [
    {
     "name": "stderr",
     "output_type": "stream",
     "text": [
      "[Stage 36:====================================================(1000 + 0) / 1000]\r"
     ]
    },
    {
     "name": "stdout",
     "output_type": "stream",
     "text": [
      "+--------------------+--------------------+\n",
      "|           seller_id|          sum(price)|\n",
      "+--------------------+--------------------+\n",
      "|3d5d0dc7073a299e3...|            170639.6|\n",
      "|2138ccb85b11a4ec1...|  1943866.0699999991|\n",
      "|33ac3e28642ab8bda...|   615628.8499999986|\n",
      "|cc419e0650a3c5ba7...|1.4751464500000073E7|\n",
      "|b76dba6c951ab00dc...|   302582.6599999989|\n",
      "+--------------------+--------------------+\n",
      "only showing top 5 rows\n",
      "\n"
     ]
    },
    {
     "name": "stderr",
     "output_type": "stream",
     "text": [
      "                                                                                \r"
     ]
    }
   ],
   "source": [
    "seller_revenue_df.show(5)"
   ]
  },
  {
   "cell_type": "code",
   "execution_count": 20,
   "id": "0bb6ffd4-9e89-483b-961d-11e4cee479a2",
   "metadata": {
    "tags": []
   },
   "outputs": [
    {
     "name": "stderr",
     "output_type": "stream",
     "text": [
      "[Stage 47:=============================>                            (2 + 2) / 4]\r"
     ]
    },
    {
     "name": "stdout",
     "output_type": "stream",
     "text": [
      "+--------------------+------------+\n",
      "|  customer_unique_id|total_orders|\n",
      "+--------------------+------------+\n",
      "|8d50f5eadf50201cc...|          16|\n",
      "|3e43e6105506432c9...|           9|\n",
      "|6469f99c1f9dfae77...|           7|\n",
      "|ca77025e7201e3b30...|           7|\n",
      "|1b6c7548a2a1f9037...|           7|\n",
      "+--------------------+------------+\n",
      "only showing top 5 rows\n",
      "\n"
     ]
    },
    {
     "name": "stderr",
     "output_type": "stream",
     "text": [
      "                                                                                \r"
     ]
    }
   ],
   "source": [
    "## Total Order Per Customer\n",
    "\n",
    "order_per_customer = full_orders_df.groupBy(col('customer_unique_id')).agg(countDistinct(col('order_id')).alias('total_orders'))\n",
    "\n",
    "sorted_order_per_customer = order_per_customer.sort(desc('total_orders'))\n",
    "\n",
    "sorted_order_per_customer.show(5)"
   ]
  },
  {
   "cell_type": "code",
   "execution_count": 21,
   "id": "c030feb8-01fa-45dd-b7e1-e1e24cfcd377",
   "metadata": {
    "tags": []
   },
   "outputs": [
    {
     "name": "stderr",
     "output_type": "stream",
     "text": [
      "[Stage 55:====================================================>(995 + 2) / 1000]\r"
     ]
    },
    {
     "name": "stdout",
     "output_type": "stream",
     "text": [
      "+--------------------+------------------+\n",
      "|           seller_id| avg(review_score)|\n",
      "+--------------------+------------------+\n",
      "|d650b663c3b5f6fb3...| 4.276244626265428|\n",
      "|cd06602b43d8800bd...|3.7134436635683516|\n",
      "|3c487ae8f8d7542be...| 4.276648299448984|\n",
      "|d354c38a7182125a7...| 4.266468180126535|\n",
      "|e9779976487b77c6d...|4.2127329046350255|\n",
      "+--------------------+------------------+\n",
      "only showing top 5 rows\n",
      "\n"
     ]
    },
    {
     "name": "stderr",
     "output_type": "stream",
     "text": [
      "                                                                                \r"
     ]
    }
   ],
   "source": [
    "## Average Review score per Seller\n",
    "\n",
    "average_review_score = full_orders_df.groupBy('seller_id').agg(avg('review_score'))\n",
    "\n",
    "average_review_score.show(5)"
   ]
  },
  {
   "cell_type": "code",
   "execution_count": 22,
   "id": "320e2dce-238e-492c-8954-8aaaeacbb183",
   "metadata": {
    "tags": []
   },
   "outputs": [
    {
     "name": "stderr",
     "output_type": "stream",
     "text": [
      "[Stage 62:====================================================>(991 + 2) / 1000]\r"
     ]
    },
    {
     "name": "stdout",
     "output_type": "stream",
     "text": [
      "+--------------------+-----------+\n",
      "|          product_id|Total sales|\n",
      "+--------------------+-----------+\n",
      "|aca2eb7d00ea1a7b8...|      86740|\n",
      "|422879e10f4668299...|      81110|\n",
      "|99a4788cb24856965...|      78775|\n",
      "|389d119b48cf3043d...|      60248|\n",
      "|d1c427060a0f73f6b...|      59274|\n",
      "|368c6c730842d7801...|      58358|\n",
      "|53759a2ecddad2bb8...|      52654|\n",
      "|53b36df67ebb7c415...|      52105|\n",
      "|154e7e31ebfa09220...|      42700|\n",
      "|3dd2a17168ec895c7...|      40787|\n",
      "+--------------------+-----------+\n",
      "only showing top 10 rows\n",
      "\n"
     ]
    },
    {
     "name": "stderr",
     "output_type": "stream",
     "text": [
      "                                                                                \r"
     ]
    }
   ],
   "source": [
    "## Most Sold Products(Top 10)\n",
    "\n",
    "sold_products = full_orders_df.groupBy('product_id').agg(count('product_id').alias('Total sales'))\n",
    "\n",
    "most_sold_products = sold_products.sort(desc('Total Sales'))\n",
    "\n",
    "most_sold_products.show(10)"
   ]
  },
  {
   "cell_type": "code",
   "execution_count": 23,
   "id": "7aca4b67-9297-48cf-9bda-a5b5b1eb36cc",
   "metadata": {
    "tags": []
   },
   "outputs": [
    {
     "name": "stderr",
     "output_type": "stream",
     "text": [
      "[Stage 69:====================================================>(997 + 1) / 1000]\r"
     ]
    },
    {
     "name": "stdout",
     "output_type": "stream",
     "text": [
      "+--------------------+------------------+\n",
      "|  customer_unique_id|         Top Buyer|\n",
      "+--------------------+------------------+\n",
      "|fd7069cf6891edbf3...|         6662844.0|\n",
      "|da122df9eeddfedc1...|         5489284.0|\n",
      "|eb53ee675b0c79d66...|         3293604.0|\n",
      "|763c8b1c9c68a0229...|         2556120.0|\n",
      "|85963fd37bfd387aa...|         2501664.0|\n",
      "|7a96eb0a685f5c19b...|         2336752.0|\n",
      "|4007669dec559734d...| 2160194.400000087|\n",
      "|397b44d5bb99eabf5...|         2143390.0|\n",
      "|60b2ec19b8c18082c...|         2124498.0|\n",
      "|13d9920a161273515...|1820543.1299999943|\n",
      "+--------------------+------------------+\n",
      "only showing top 10 rows\n",
      "\n"
     ]
    },
    {
     "name": "stderr",
     "output_type": "stream",
     "text": [
      "                                                                                \r"
     ]
    }
   ],
   "source": [
    "## Top Customers by spending\n",
    "\n",
    "spend_customer = full_orders_df.groupBy('customer_unique_id').agg(sum('price').alias('Top Buyer'))\n",
    "\n",
    "top_customers = spend_customer.sort(desc('Top Buyer'))\n",
    "top_customers.show(10)"
   ]
  },
  {
   "cell_type": "markdown",
   "id": "59d31ad4-7b9b-4762-b749-0b84b27a7c36",
   "metadata": {},
   "source": [
    "# 3. Window Function and Ranking"
   ]
  },
  {
   "cell_type": "code",
   "execution_count": 24,
   "id": "beea2200-4378-434d-bbdc-dc74f0433cbf",
   "metadata": {
    "tags": []
   },
   "outputs": [],
   "source": [
    "from pyspark.sql.window import Window"
   ]
  },
  {
   "cell_type": "code",
   "execution_count": 25,
   "id": "3d3d2962-838b-4d55-92fa-a2f8a3f327e2",
   "metadata": {
    "tags": []
   },
   "outputs": [],
   "source": [
    "# Dense rank for Sellers based on revenue\n",
    "\n",
    "window_spec = Window.partitionBy('seller_id').orderBy(desc('price'))"
   ]
  },
  {
   "cell_type": "code",
   "execution_count": 26,
   "id": "ad208ce2-0d94-4e89-8799-74d630ff4b91",
   "metadata": {
    "tags": []
   },
   "outputs": [
    {
     "name": "stderr",
     "output_type": "stream",
     "text": [
      "[Stage 80:>                                                         (0 + 1) / 1]\r"
     ]
    },
    {
     "name": "stdout",
     "output_type": "stream",
     "text": [
      "+--------------------+-----+----+\n",
      "|           seller_id|price|rank|\n",
      "+--------------------+-----+----+\n",
      "|0015a82c2db000af6...|895.0|   1|\n",
      "|0015a82c2db000af6...|895.0|   1|\n",
      "|0015a82c2db000af6...|895.0|   1|\n",
      "|0015a82c2db000af6...|895.0|   1|\n",
      "|0015a82c2db000af6...|895.0|   1|\n",
      "|0015a82c2db000af6...|895.0|   1|\n",
      "|0015a82c2db000af6...|895.0|   1|\n",
      "|0015a82c2db000af6...|895.0|   1|\n",
      "|0015a82c2db000af6...|895.0|   1|\n",
      "|0015a82c2db000af6...|895.0|   1|\n",
      "|0015a82c2db000af6...|895.0|   1|\n",
      "|0015a82c2db000af6...|895.0|   1|\n",
      "|0015a82c2db000af6...|895.0|   1|\n",
      "|0015a82c2db000af6...|895.0|   1|\n",
      "|0015a82c2db000af6...|895.0|   1|\n",
      "|0015a82c2db000af6...|895.0|   1|\n",
      "|0015a82c2db000af6...|895.0|   1|\n",
      "|0015a82c2db000af6...|895.0|   1|\n",
      "|0015a82c2db000af6...|895.0|   1|\n",
      "|0015a82c2db000af6...|895.0|   1|\n",
      "+--------------------+-----+----+\n",
      "only showing top 20 rows\n",
      "\n"
     ]
    },
    {
     "name": "stderr",
     "output_type": "stream",
     "text": [
      "                                                                                \r"
     ]
    }
   ],
   "source": [
    "## ranking Top Selling Products per seller\n",
    "\n",
    "top_seller_products_df = full_orders_df.withColumn('rank',rank().over(window_spec)).filter(col('rank')<=5)\n",
    "\n",
    "top_seller_products_df.select('seller_id','price','rank').show()"
   ]
  },
  {
   "cell_type": "code",
   "execution_count": 27,
   "id": "f32e639a-3d09-4025-a8ed-07d3b608a784",
   "metadata": {
    "tags": []
   },
   "outputs": [
    {
     "name": "stderr",
     "output_type": "stream",
     "text": [
      "25/10/18 04:50:53 WARN WindowExec: No Partition Defined for Window operation! Moving all data to a single partition, this can cause serious performance degradation.\n",
      "25/10/18 04:50:53 WARN WindowExec: No Partition Defined for Window operation! Moving all data to a single partition, this can cause serious performance degradation.\n",
      "25/10/18 04:50:53 WARN WindowExec: No Partition Defined for Window operation! Moving all data to a single partition, this can cause serious performance degradation.\n",
      "25/10/18 04:50:53 WARN WindowExec: No Partition Defined for Window operation! Moving all data to a single partition, this can cause serious performance degradation.\n",
      "25/10/18 04:50:53 WARN WindowExec: No Partition Defined for Window operation! Moving all data to a single partition, this can cause serious performance degradation.\n",
      "25/10/18 04:51:03 WARN WindowExec: No Partition Defined for Window operation! Moving all data to a single partition, this can cause serious performance degradation.\n",
      "25/10/18 04:51:03 WARN WindowExec: No Partition Defined for Window operation! Moving all data to a single partition, this can cause serious performance degradation.\n",
      "25/10/18 04:51:03 WARN WindowExec: No Partition Defined for Window operation! Moving all data to a single partition, this can cause serious performance degradation.\n",
      "25/10/18 04:51:03 WARN WindowExec: No Partition Defined for Window operation! Moving all data to a single partition, this can cause serious performance degradation.\n"
     ]
    },
    {
     "name": "stdout",
     "output_type": "stream",
     "text": [
      "+--------------------+--------------------+-----------------+\n",
      "|           seller_id|      seller_revenue|seller_dense_rank|\n",
      "+--------------------+--------------------+-----------------+\n",
      "|7c67e1448b00f6e96...| 8.568359756000137E7|                1|\n",
      "|da8622b14eb17ae28...| 5.381143433000069E7|                2|\n",
      "|1025f0e2d44d7041d...| 5.043467467999989E7|                3|\n",
      "|4a3ca9315b744ce9f...|4.8727295520000204E7|                4|\n",
      "|1f50f920176fa81da...|4.4570278139998965E7|                5|\n",
      "|4869f7a5dfa277a7d...|4.0076877290000096E7|                6|\n",
      "|53243585a1d6dc264...| 3.734442017000002E7|                7|\n",
      "|955fee9216a65b617...| 3.468395314000033E7|                8|\n",
      "|fa1c13f2614d7b5c4...|3.0784219589999985E7|                9|\n",
      "|7e93a43ef30c4f03f...|       2.682890093E7|               10|\n",
      "+--------------------+--------------------+-----------------+\n",
      "only showing top 10 rows\n",
      "\n"
     ]
    },
    {
     "name": "stderr",
     "output_type": "stream",
     "text": [
      "                                                                                \r"
     ]
    }
   ],
   "source": [
    "## Dense Rank For Sellers Based on revenue\n",
    "\n",
    "seller_revenue_df = full_orders_df.groupBy(col('seller_id')).agg(sum(col('payment_value')).alias('seller_revenue'))\n",
    "\n",
    "windows_spec = Window.orderBy(desc('seller_revenue'))\n",
    "\n",
    "final_seller_ranking_df = seller_revenue_df.withColumn('seller_dense_rank',dense_rank().over(windows_spec))\n",
    "\n",
    "final_seller_ranking_df.sort(col('seller_dense_rank')).show(10)\n",
    "                                                                "
   ]
  },
  {
   "cell_type": "markdown",
   "id": "cfd9e942-1e6e-4631-a157-1935c1f06007",
   "metadata": {},
   "source": [
    "# 4. Advance aggregation and Enrichment"
   ]
  },
  {
   "cell_type": "code",
   "execution_count": 28,
   "id": "3aa1fbe6-5b01-4289-af7c-7bab8fc2d769",
   "metadata": {
    "tags": []
   },
   "outputs": [
    {
     "name": "stdout",
     "output_type": "stream",
     "text": [
      "root\n",
      " |-- order_id: string (nullable = true)\n",
      " |-- customer_id: string (nullable = true)\n",
      " |-- seller_id: string (nullable = true)\n",
      " |-- product_id: string (nullable = true)\n",
      " |-- order_status: string (nullable = true)\n",
      " |-- order_purchase_timestamp: timestamp (nullable = true)\n",
      " |-- order_approved_at: timestamp (nullable = true)\n",
      " |-- order_delivered_carrier_date: timestamp (nullable = true)\n",
      " |-- order_delivered_customer_date: timestamp (nullable = true)\n",
      " |-- order_estimated_delivery_date: timestamp (nullable = true)\n",
      " |-- order_item_id: integer (nullable = true)\n",
      " |-- shipping_limit_date: timestamp (nullable = true)\n",
      " |-- price: double (nullable = true)\n",
      " |-- freight_value: double (nullable = true)\n",
      " |-- product_category_name: string (nullable = true)\n",
      " |-- product_name_lenght: integer (nullable = true)\n",
      " |-- product_description_lenght: integer (nullable = true)\n",
      " |-- product_photos_qty: integer (nullable = true)\n",
      " |-- product_weight_g: integer (nullable = true)\n",
      " |-- product_length_cm: integer (nullable = true)\n",
      " |-- product_height_cm: integer (nullable = true)\n",
      " |-- product_width_cm: integer (nullable = true)\n",
      " |-- seller_zip_code_prefix: integer (nullable = true)\n",
      " |-- seller_city: string (nullable = true)\n",
      " |-- seller_state: string (nullable = true)\n",
      " |-- customer_unique_id: string (nullable = true)\n",
      " |-- customer_zip_code_prefix: integer (nullable = true)\n",
      " |-- customer_city: string (nullable = true)\n",
      " |-- customer_state: string (nullable = true)\n",
      " |-- geolocation_zip_code_prefix: integer (nullable = true)\n",
      " |-- geolocation_lat: double (nullable = true)\n",
      " |-- geolocation_lng: double (nullable = true)\n",
      " |-- geolocation_city: string (nullable = true)\n",
      " |-- geolocation_state: string (nullable = true)\n",
      " |-- review_id: string (nullable = true)\n",
      " |-- review_score: string (nullable = true)\n",
      " |-- review_comment_title: string (nullable = true)\n",
      " |-- review_comment_message: string (nullable = true)\n",
      " |-- review_creation_date: string (nullable = true)\n",
      " |-- review_answer_timestamp: string (nullable = true)\n",
      " |-- payment_sequential: integer (nullable = true)\n",
      " |-- payment_type: string (nullable = true)\n",
      " |-- payment_installments: integer (nullable = true)\n",
      " |-- payment_value: double (nullable = true)\n",
      "\n"
     ]
    }
   ],
   "source": [
    "full_orders_df.printSchema()"
   ]
  },
  {
   "cell_type": "code",
   "execution_count": 29,
   "id": "deabfc34-8695-428c-bfdf-fa7c40ae8ca6",
   "metadata": {
    "tags": []
   },
   "outputs": [
    {
     "name": "stderr",
     "output_type": "stream",
     "text": [
      "[Stage 99:===========================================>              (3 + 1) / 4]\r"
     ]
    },
    {
     "name": "stdout",
     "output_type": "stream",
     "text": [
      "+--------------------+------------+------------------+-------+\n",
      "|         customer_id|total_orders|       total_spent|    AOV|\n",
      "+--------------------+------------+------------------+-------+\n",
      "|d3e82ccec3cb5f956...|        6876|         6662844.0|  969.0|\n",
      "|df55c14d1476a9a34...|         743|         3565657.0| 4799.0|\n",
      "|fe5113a38e3575c04...|        2292|         3293604.0| 1437.0|\n",
      "|ec5b2ba62e5743423...|        1428|         2556120.0| 1790.0|\n",
      "|63b964e79dee32a35...|        6072|         2501664.0|  412.0|\n",
      "|46bb3c0b1a65c8399...|         748|         2336752.0| 3124.0|\n",
      "|05455dfa7cd02f13d...|        2184| 2160194.400000087|  989.1|\n",
      "|3690e975641f01bd0...|         802|         2124498.0| 2649.0|\n",
      "|349509b216bd5ec11...|         743|         1923627.0| 2589.0|\n",
      "|695476b5848d64ba0...|         687|1820543.1299999943|2649.99|\n",
      "|73236a0796f53d60d...|         832|         1755520.0| 2110.0|\n",
      "|cc803a2c412833101...|         762|         1676400.0| 2200.0|\n",
      "|1ff773612ab8934db...|        5820|1658641.7999999512| 284.99|\n",
      "|fced842c7dad61e8c...|         602|         1654898.0| 2749.0|\n",
      "|1ecb47d23dc8203cd...|        1164|1629588.3599999903|1399.99|\n",
      "|de832e8dbb1f588a4...|        2190|1584990.5999999817| 723.74|\n",
      "|803cd9b04f9cd252c...|         488|         1512312.0| 3099.0|\n",
      "|d72181923840c8895...|        2721|1488114.8999999566|  546.9|\n",
      "|06d478ba352a27a51...|        1146|         1461150.0| 1275.0|\n",
      "|0049e8442c2a3e4a8...|        1204|         1444800.0| 1200.0|\n",
      "+--------------------+------------+------------------+-------+\n",
      "only showing top 20 rows\n",
      "\n"
     ]
    },
    {
     "name": "stderr",
     "output_type": "stream",
     "text": [
      "                                                                                \r"
     ]
    }
   ],
   "source": [
    "## Total revenue & Average Order Value(AOV) per Customer\n",
    "\n",
    "customer_spending_df = full_orders_df.groupBy('customer_id').agg(\n",
    "    count('order_id').alias('total_orders'),\n",
    "    sum('price').alias('total_spent'),\n",
    "    round(avg('price'),2).alias('AOV')\n",
    "       )\\\n",
    ".orderBy(desc('total_spent'))\n",
    "    \n",
    "customer_spending_df.show()\n",
    "\n"
   ]
  },
  {
   "cell_type": "code",
   "execution_count": 30,
   "id": "aaeafff6-8562-4619-a158-070acfb02598",
   "metadata": {
    "tags": []
   },
   "outputs": [
    {
     "name": "stderr",
     "output_type": "stream",
     "text": [
      "[Stage 102:===================================================>(993 + 2) / 1000]\r"
     ]
    },
    {
     "name": "stdout",
     "output_type": "stream",
     "text": [
      "+--------------------+------------+--------------------+----------------+-----------------+\n",
      "|           seller_id|total_orders|       total_revenue|avg_review_score|price_variability|\n",
      "+--------------------+------------+--------------------+----------------+-----------------+\n",
      "|4869f7a5dfa277a7d...|      184587| 3.613871732000001E7|            4.09|           111.65|\n",
      "|53243585a1d6dc264...|       54514| 3.429159295000001E7|            4.12|           499.65|\n",
      "|4a3ca9315b744ce9f...|      330661| 3.375957084000011E7|            3.77|            59.37|\n",
      "|7c67e1448b00f6e96...|      233306|3.2282321789999805E7|            3.42|            50.39|\n",
      "|fa1c13f2614d7b5c4...|       87686|3.0139386309999976E7|            4.38|            307.7|\n",
      "|da8622b14eb17ae28...|      264433|2.9857669730000027E7|            3.98|            72.92|\n",
      "|7e93a43ef30c4f03f...|       50226| 2.631570629999997E7|            4.15|           377.24|\n",
      "|1025f0e2d44d7041d...|      229587|2.2937518519999973E7|            3.89|             84.3|\n",
      "|46dc3b2cc0980fb8e...|       90426|2.1791773289999984E7|            4.18|           187.49|\n",
      "|955fee9216a65b617...|      232364|2.0964410670000035E7|            4.04|            84.94|\n",
      "|7a67c85e85bb2ce85...|      167231|2.0312794890000045E7|            4.26|            56.23|\n",
      "|620c87c171fb2a6dd...|      142232|        2.01198396E7|            4.36|           100.45|\n",
      "|7d13fca1522535862...|       88807|1.8156881909999996E7|            4.07|           151.18|\n",
      "|a1043bafd471dff53...|      132672| 1.766267597999997E7|            4.25|            37.19|\n",
      "|6560211a19b47992c...|      286539|1.7315932900000002E7|            3.86|            35.04|\n",
      "|edb1ef5e36e0c8cd8...|       38945|1.6624835149999896E7|            4.43|           460.85|\n",
      "|1f50f920176fa81da...|      297292|1.6497454440000007E7|            4.04|             7.39|\n",
      "|5dceca129747e92ff...|       50420|1.4910548339999989E7|            4.17|           299.84|\n",
      "|cc419e0650a3c5ba7...|      256032| 1.475146450000005E7|            4.07|            22.67|\n",
      "|3d871de0142ce09b7...|      175876|        1.41845253E7|            4.15|            38.14|\n",
      "+--------------------+------------+--------------------+----------------+-----------------+\n",
      "only showing top 20 rows\n",
      "\n"
     ]
    },
    {
     "name": "stderr",
     "output_type": "stream",
     "text": [
      "                                                                                \r"
     ]
    }
   ],
   "source": [
    "## Seller performance Metrices (Revenue, average Review, order Count)\n",
    "\n",
    "seller_performance_df = full_orders_df.groupBy('seller_id').agg(\n",
    "    count('order_id').alias('total_orders'),\n",
    "    sum('price').alias('total_revenue'),\n",
    "    round(avg('review_score'),2).alias('avg_review_score'),\n",
    "    round(stddev('price'),2).alias('price_variability')\n",
    ")\\\n",
    ".orderBy(desc('total_revenue'))\n",
    "\n",
    "seller_performance_df.show()"
   ]
  },
  {
   "cell_type": "code",
   "execution_count": 31,
   "id": "740233a7-5ba8-47d3-b59c-9af097262186",
   "metadata": {
    "tags": []
   },
   "outputs": [
    {
     "name": "stderr",
     "output_type": "stream",
     "text": [
      "                                                                                \r"
     ]
    },
    {
     "name": "stdout",
     "output_type": "stream",
     "text": [
      "+--------------------+-----------+------------------+------------+---------+----------------+--------------------+\n",
      "|          product_id|total_sales|     total_revenue|review_score|avg_price|price_volatility|      unique_sellers|\n",
      "+--------------------+-----------+------------------+------------+---------+----------------+--------------------+\n",
      "|aca2eb7d00ea1a7b8...|      86740|6164630.3000000175|        4.01|    71.07|            3.17|[955fee9216a65b61...|\n",
      "|422879e10f4668299...|      81110| 4442791.510000013|        3.85|    54.77|            4.46|[1f50f920176fa81d...|\n",
      "|99a4788cb24856965...|      78775| 6921762.710000015|        4.01|    87.87|            4.08|[4a3ca9315b744ce9...|\n",
      "|389d119b48cf3043d...|      60248| 3280533.130000012|        4.25|    54.45|            4.37|[1f50f920176fa81d...|\n",
      "|d1c427060a0f73f6b...|      59274|  8220103.32999999|        4.18|   138.68|           16.58|[a1043bafd471dff5...|\n",
      "|368c6c730842d7801...|      58358| 3181698.899999993|        4.16|    54.52|            4.59|[1f50f920176fa81d...|\n",
      "|53759a2ecddad2bb8...|      52654|2893017.4999999963|        3.85|    54.94|            4.52|[1f50f920176fa81d...|\n",
      "|53b36df67ebb7c415...|      52105| 6159887.409999998|        4.23|   118.22|           20.13|[7d13fca152253586...|\n",
      "|154e7e31ebfa09220...|      42700| 962160.9999999976|        4.29|    22.53|            1.92|[cc419e0650a3c5ba...|\n",
      "|3dd2a17168ec895c7...|      40787|  6116941.30000001|        4.07|   149.97|            0.85|[de722cd6dad950a9...|\n",
      "|e53e557d5a159f5aa...|      39516| 3329353.949999986|        3.61|    84.25|           11.32|[6973a06f484aacf4...|\n",
      "|2b4609f8948be1887...|      36179|3171618.7700000065|         4.1|    87.66|            4.22|[cc419e0650a3c5ba...|\n",
      "|35afc973633aaeb6b...|      31206|2735669.0000000647|        4.19|    87.66|            3.32|[d20b021d3efdf267...|\n",
      "|e0d64dcfaa3b6db5c...|      31153| 5226407.629999999|        3.71|   167.77|            30.9|[7d13fca152253586...|\n",
      "|42a2c92a0979a949c...|      30486|1810926.0000000086|        4.09|     59.4|            0.64|[813348c996469b40...|\n",
      "|7c1bd920dbdf22470...|      29018| 1739338.820000001|        3.82|    59.94|            2.77|[cc419e0650a3c5ba...|\n",
      "|a62e25e09e05e6faf...|      28898|         3079869.0|        3.79|   106.58|             1.5|[634964b17796e643...|\n",
      "|5a848e4ab52fd5445...|      28737|3534363.6300000073|        4.25|   122.99|             0.0|[c826c40d7b19f62a...|\n",
      "|c4baedd846ed09b85...|      28166|2802044.6500000055|        4.22|    99.48|            11.9|[a1043bafd471dff5...|\n",
      "|b532349fe46b38fbc...|      27176| 993089.5699999989|        3.56|    36.54|            1.92|[1025f0e2d44d7041...|\n",
      "+--------------------+-----------+------------------+------------+---------+----------------+--------------------+\n",
      "only showing top 20 rows\n",
      "\n"
     ]
    }
   ],
   "source": [
    "## Product Popularity Metrices\n",
    "\n",
    "product_metrices_df = full_orders_df.groupBy('product_id').agg(\n",
    "    count('order_id').alias('total_sales'),\n",
    "    sum('price').alias('total_revenue'),\n",
    "    round(avg('review_score'),2).alias('review_score'),\n",
    "    round(avg('price'),2).alias('avg_price'),\n",
    "    round(stddev('price'),2).alias('price_volatility'),\\\n",
    "    collect_set('seller_id').alias('unique_sellers')\n",
    ")\\\n",
    ".orderBy(desc('total_sales'))\n",
    "\n",
    "product_metrices_df.show()"
   ]
  },
  {
   "cell_type": "code",
   "execution_count": 40,
   "id": "dc310bc1-e4a6-4e4c-932c-d251931f39fd",
   "metadata": {
    "tags": []
   },
   "outputs": [
    {
     "name": "stderr",
     "output_type": "stream",
     "text": [
      "[Stage 152:===================================================>(996 + 1) / 1000]\r"
     ]
    },
    {
     "name": "stdout",
     "output_type": "stream",
     "text": [
      "+---------------+------------+--------------+-------------------+\n",
      "|sales_per_month|total_orders| total_revenue|Average Order Value|\n",
      "+---------------+------------+--------------+-------------------+\n",
      "|             08|       10745|231,958,707.85|             121.17|\n",
      "|             05|       10513|240,061,151.97|             125.12|\n",
      "|             07|       10242|222,908,857.10|             120.65|\n",
      "|             03|        9829|218,681,168.43|             120.85|\n",
      "|             06|        9377|210,243,323.49|             123.53|\n",
      "+---------------+------------+--------------+-------------------+\n",
      "only showing top 5 rows\n",
      "\n"
     ]
    },
    {
     "name": "stderr",
     "output_type": "stream",
     "text": [
      "                                                                                \r"
     ]
    }
   ],
   "source": [
    "## Monthly Reevenue and Order Count Trend\n",
    "\n",
    "monthly_sales = full_orders_df.withColumn('sales_per_month',date_format(col('order_purchase_timestamp'),'MM'))\n",
    "\n",
    "top_selling_month = monthly_sales.groupBy('sales_per_month').agg(\n",
    "    countDistinct(col('order_id')).alias('total_orders'),\n",
    "    format_number(sum(col('price')),2).alias('total_revenue'),\n",
    "    round(avg('price'),2).alias('Average Order Value'),\n",
    "                            \n",
    ")\\\n",
    ".orderBy(desc('total_orders'))\n",
    "\n",
    "top_selling_month.show(5)"
   ]
  },
  {
   "cell_type": "code",
   "execution_count": 47,
   "id": "a51bf379-ea35-4b89-ab42-ecc0b0ad9634",
   "metadata": {
    "tags": []
   },
   "outputs": [
    {
     "name": "stderr",
     "output_type": "stream",
     "text": [
      "[Stage 193:===================================================>(986 + 2) / 1000]\r"
     ]
    },
    {
     "name": "stdout",
     "output_type": "stream",
     "text": [
      "+--------------------+-------------------+-------------------+------------+------+\n",
      "|  customer_unique_id|   first_order_date|    last_order_date|total_orders|   AOV|\n",
      "+--------------------+-------------------+-------------------+------------+------+\n",
      "|74adf920dbd3d2e6e...|2017-07-13 10:42:37|2017-07-13 10:42:37|       11427| 85.99|\n",
      "|41a3b256cc497dc95...|2018-01-27 11:28:32|2018-01-27 11:28:32|       10752| 43.82|\n",
      "|9a736b248f67d166d...|2017-07-27 12:50:46|2017-08-08 20:26:31|        9525| 37.97|\n",
      "|d425130be1b15a458...|2017-05-25 22:27:50|2017-05-25 22:27:50|        8556|  26.4|\n",
      "|86bfc49565a9ca52f...|2018-01-05 19:15:37|2018-06-12 20:46:51|        8022| 17.85|\n",
      "|873e4275daabf5ab6...|2018-03-06 19:21:47|2018-03-06 19:21:52|        7714| 72.06|\n",
      "|397b44d5bb99eabf5...|2018-01-11 12:16:24|2018-06-17 19:21:01|        7714|277.86|\n",
      "|fd7069cf6891edbf3...|2017-03-18 14:28:34|2017-03-18 14:28:34|        6876| 969.0|\n",
      "|31e412b9fb766b679...|2017-12-13 14:21:15|2017-12-13 14:21:15|        6706|  59.0|\n",
      "|e0ff4805ba6693550...|2017-11-24 16:16:45|2017-11-24 16:16:45|        6597|  59.2|\n",
      "+--------------------+-------------------+-------------------+------------+------+\n",
      "only showing top 10 rows\n",
      "\n"
     ]
    },
    {
     "name": "stderr",
     "output_type": "stream",
     "text": [
      "                                                                                \r"
     ]
    }
   ],
   "source": [
    "## Customer Retention Analysis (First and Last Orders)\n",
    "customer_retention_df = full_orders_df.groupBy('customer_unique_id').agg(\n",
    "    min('order_purchase_timestamp').alias('first_order_date'),\n",
    "    max('order_purchase_timestamp').alias('last_order_date'),\n",
    "    count('order_id').alias('total_orders'),\n",
    "    round(avg('price'),2).alias('AOV')\n",
    ")\\\n",
    ".orderBy(desc('total_orders'))\n",
    "\n",
    "customer_retention_df.show(10)"
   ]
  },
  {
   "cell_type": "markdown",
   "id": "8255c323-4639-411e-89d9-be8101b5e7c3",
   "metadata": {},
   "source": [
    "# 5. Extended Enrichment"
   ]
  },
  {
   "cell_type": "code",
   "execution_count": 48,
   "id": "b20d7264-ac91-409b-9e5b-236b0af2b3a5",
   "metadata": {
    "tags": []
   },
   "outputs": [],
   "source": [
    "## Order Status Flags\n",
    "\n",
    "full_orders_df = full_orders_df.withColumn('is_delivered',\\\n",
    "    when(col('order_status')=='delivered',lit(1)).otherwise(lit(0)))\\\n",
    "    .withColumn('is_canceled',when(col('order_status')=='canceled',lit(1)).otherwise(lit(0)))\n"
   ]
  },
  {
   "cell_type": "code",
   "execution_count": 50,
   "id": "e0614a95-130e-4121-ad38-e8746134cb25",
   "metadata": {
    "tags": []
   },
   "outputs": [
    {
     "name": "stdout",
     "output_type": "stream",
     "text": [
      "+------------+------------+-----------+\n",
      "|order_status|is_delivered|is_canceled|\n",
      "+------------+------------+-----------+\n",
      "|    canceled|           0|          1|\n",
      "|    canceled|           0|          1|\n",
      "|    canceled|           0|          1|\n",
      "|    canceled|           0|          1|\n",
      "|    canceled|           0|          1|\n",
      "|    canceled|           0|          1|\n",
      "|    canceled|           0|          1|\n",
      "|    canceled|           0|          1|\n",
      "|    canceled|           0|          1|\n",
      "|    canceled|           0|          1|\n",
      "|    canceled|           0|          1|\n",
      "|    canceled|           0|          1|\n",
      "|    canceled|           0|          1|\n",
      "|    canceled|           0|          1|\n",
      "|    canceled|           0|          1|\n",
      "|    canceled|           0|          1|\n",
      "|    canceled|           0|          1|\n",
      "|    canceled|           0|          1|\n",
      "|    canceled|           0|          1|\n",
      "|    canceled|           0|          1|\n",
      "|    canceled|           0|          1|\n",
      "|    canceled|           0|          1|\n",
      "|    canceled|           0|          1|\n",
      "|    canceled|           0|          1|\n",
      "|    canceled|           0|          1|\n",
      "|    canceled|           0|          1|\n",
      "|    canceled|           0|          1|\n",
      "|    canceled|           0|          1|\n",
      "|    canceled|           0|          1|\n",
      "|    canceled|           0|          1|\n",
      "|    canceled|           0|          1|\n",
      "|    canceled|           0|          1|\n",
      "|    canceled|           0|          1|\n",
      "|    canceled|           0|          1|\n",
      "|    canceled|           0|          1|\n",
      "|    canceled|           0|          1|\n",
      "|    canceled|           0|          1|\n",
      "|    canceled|           0|          1|\n",
      "|    canceled|           0|          1|\n",
      "|    canceled|           0|          1|\n",
      "|    canceled|           0|          1|\n",
      "|    canceled|           0|          1|\n",
      "|    canceled|           0|          1|\n",
      "|    canceled|           0|          1|\n",
      "|    canceled|           0|          1|\n",
      "|    canceled|           0|          1|\n",
      "|    canceled|           0|          1|\n",
      "|    canceled|           0|          1|\n",
      "|    canceled|           0|          1|\n",
      "|    canceled|           0|          1|\n",
      "|    canceled|           0|          1|\n",
      "|    canceled|           0|          1|\n",
      "|    canceled|           0|          1|\n",
      "|    canceled|           0|          1|\n",
      "|    canceled|           0|          1|\n",
      "|    canceled|           0|          1|\n",
      "|    canceled|           0|          1|\n",
      "|    canceled|           0|          1|\n",
      "|    canceled|           0|          1|\n",
      "|    canceled|           0|          1|\n",
      "|    canceled|           0|          1|\n",
      "|    canceled|           0|          1|\n",
      "|    canceled|           0|          1|\n",
      "|    canceled|           0|          1|\n",
      "|    canceled|           0|          1|\n",
      "|    canceled|           0|          1|\n",
      "|    canceled|           0|          1|\n",
      "|    canceled|           0|          1|\n",
      "|    canceled|           0|          1|\n",
      "|    canceled|           0|          1|\n",
      "|    canceled|           0|          1|\n",
      "|    canceled|           0|          1|\n",
      "|    canceled|           0|          1|\n",
      "|    canceled|           0|          1|\n",
      "|    canceled|           0|          1|\n",
      "|    canceled|           0|          1|\n",
      "|    canceled|           0|          1|\n",
      "|    canceled|           0|          1|\n",
      "|    canceled|           0|          1|\n",
      "|    canceled|           0|          1|\n",
      "|    canceled|           0|          1|\n",
      "|    canceled|           0|          1|\n",
      "|    canceled|           0|          1|\n",
      "|    canceled|           0|          1|\n",
      "|    canceled|           0|          1|\n",
      "|    canceled|           0|          1|\n",
      "|    canceled|           0|          1|\n",
      "|    canceled|           0|          1|\n",
      "|    canceled|           0|          1|\n",
      "|    canceled|           0|          1|\n",
      "|    canceled|           0|          1|\n",
      "|    canceled|           0|          1|\n",
      "|    canceled|           0|          1|\n",
      "|    canceled|           0|          1|\n",
      "|    canceled|           0|          1|\n",
      "|    canceled|           0|          1|\n",
      "|    canceled|           0|          1|\n",
      "|    canceled|           0|          1|\n",
      "|    canceled|           0|          1|\n",
      "|    canceled|           0|          1|\n",
      "+------------+------------+-----------+\n",
      "only showing top 100 rows\n",
      "\n"
     ]
    }
   ],
   "source": [
    "full_orders_df.where(full_orders_df['order_status']=='canceled')\\\n",
    "    .select('order_status','is_delivered','is_canceled').show(100)"
   ]
  },
  {
   "cell_type": "code",
   "execution_count": 54,
   "id": "a69ea96c-cb2c-4baa-afcb-8f77d4685f80",
   "metadata": {
    "tags": []
   },
   "outputs": [
    {
     "name": "stdout",
     "output_type": "stream",
     "text": [
      "root\n",
      " |-- order_id: string (nullable = true)\n",
      " |-- customer_id: string (nullable = true)\n",
      " |-- seller_id: string (nullable = true)\n",
      " |-- product_id: string (nullable = true)\n",
      " |-- order_status: string (nullable = true)\n",
      " |-- order_purchase_timestamp: timestamp (nullable = true)\n",
      " |-- order_approved_at: timestamp (nullable = true)\n",
      " |-- order_delivered_carrier_date: timestamp (nullable = true)\n",
      " |-- order_delivered_customer_date: timestamp (nullable = true)\n",
      " |-- order_estimated_delivery_date: timestamp (nullable = true)\n",
      " |-- order_item_id: integer (nullable = true)\n",
      " |-- shipping_limit_date: timestamp (nullable = true)\n",
      " |-- price: double (nullable = true)\n",
      " |-- freight_value: double (nullable = true)\n",
      " |-- product_category_name: string (nullable = true)\n",
      " |-- product_name_lenght: integer (nullable = true)\n",
      " |-- product_description_lenght: integer (nullable = true)\n",
      " |-- product_photos_qty: integer (nullable = true)\n",
      " |-- product_weight_g: integer (nullable = true)\n",
      " |-- product_length_cm: integer (nullable = true)\n",
      " |-- product_height_cm: integer (nullable = true)\n",
      " |-- product_width_cm: integer (nullable = true)\n",
      " |-- seller_zip_code_prefix: integer (nullable = true)\n",
      " |-- seller_city: string (nullable = true)\n",
      " |-- seller_state: string (nullable = true)\n",
      " |-- customer_unique_id: string (nullable = true)\n",
      " |-- customer_zip_code_prefix: integer (nullable = true)\n",
      " |-- customer_city: string (nullable = true)\n",
      " |-- customer_state: string (nullable = true)\n",
      " |-- geolocation_zip_code_prefix: integer (nullable = true)\n",
      " |-- geolocation_lat: double (nullable = true)\n",
      " |-- geolocation_lng: double (nullable = true)\n",
      " |-- geolocation_city: string (nullable = true)\n",
      " |-- geolocation_state: string (nullable = true)\n",
      " |-- review_id: string (nullable = true)\n",
      " |-- review_score: string (nullable = true)\n",
      " |-- review_comment_title: string (nullable = true)\n",
      " |-- review_comment_message: string (nullable = true)\n",
      " |-- review_creation_date: string (nullable = true)\n",
      " |-- review_answer_timestamp: string (nullable = true)\n",
      " |-- payment_sequential: integer (nullable = true)\n",
      " |-- payment_type: string (nullable = true)\n",
      " |-- payment_installments: integer (nullable = true)\n",
      " |-- payment_value: double (nullable = true)\n",
      " |-- is_delivered: integer (nullable = false)\n",
      " |-- is_canceled: integer (nullable = false)\n",
      "\n"
     ]
    }
   ],
   "source": [
    "full_orders_df.printSchema()"
   ]
  },
  {
   "cell_type": "code",
   "execution_count": 55,
   "id": "3982ab2c-70e3-4438-9096-33d6b683a7af",
   "metadata": {
    "tags": []
   },
   "outputs": [
    {
     "name": "stdout",
     "output_type": "stream",
     "text": [
      "+-----+-------------+-------------+\n",
      "|price|freight_value|order_revenue|\n",
      "+-----+-------------+-------------+\n",
      "|330.0|        10.07|       340.07|\n",
      "|330.0|        10.07|       340.07|\n",
      "|330.0|        10.07|       340.07|\n",
      "|330.0|        10.07|       340.07|\n",
      "|330.0|        10.07|       340.07|\n",
      "|330.0|        10.07|       340.07|\n",
      "|330.0|        10.07|       340.07|\n",
      "|330.0|        10.07|       340.07|\n",
      "|330.0|        10.07|       340.07|\n",
      "|330.0|        10.07|       340.07|\n",
      "|330.0|        10.07|       340.07|\n",
      "|330.0|        10.07|       340.07|\n",
      "|330.0|        10.07|       340.07|\n",
      "|330.0|        10.07|       340.07|\n",
      "|330.0|        10.07|       340.07|\n",
      "|330.0|        10.07|       340.07|\n",
      "|330.0|        10.07|       340.07|\n",
      "|330.0|        10.07|       340.07|\n",
      "|330.0|        10.07|       340.07|\n",
      "|330.0|        10.07|       340.07|\n",
      "+-----+-------------+-------------+\n",
      "only showing top 20 rows\n",
      "\n"
     ]
    }
   ],
   "source": [
    "## Order revenue Calculation\n",
    "\n",
    "full_orders_df = full_orders_df.withColumn('order_revenue',col('price')+col('freight_value'))\n",
    "\n",
    "full_orders_df.select('price','freight_value','order_revenue').show()"
   ]
  },
  {
   "cell_type": "code",
   "execution_count": 56,
   "id": "3c231440-f372-4134-9e08-06f77a3f07fd",
   "metadata": {
    "tags": []
   },
   "outputs": [
    {
     "name": "stdout",
     "output_type": "stream",
     "text": [
      "root\n",
      " |-- customer_id: string (nullable = true)\n",
      " |-- total_orders: long (nullable = false)\n",
      " |-- total_spent: double (nullable = true)\n",
      " |-- AOV: double (nullable = true)\n",
      "\n"
     ]
    }
   ],
   "source": [
    "customer_spending_df.printSchema()"
   ]
  },
  {
   "cell_type": "code",
   "execution_count": 69,
   "id": "9caaab9b-7fe0-4dad-8a85-1eeac1e6d519",
   "metadata": {
    "tags": []
   },
   "outputs": [
    {
     "name": "stderr",
     "output_type": "stream",
     "text": [
      "[Stage 212:===================================================>(993 + 1) / 1000]\r"
     ]
    },
    {
     "name": "stdout",
     "output_type": "stream",
     "text": [
      "+--------------------+------------+------------------+-------+----------------+\n",
      "|         customer_id|total_orders|       total_spent|    AOV|customer_segment|\n",
      "+--------------------+------------+------------------+-------+----------------+\n",
      "|d3e82ccec3cb5f956...|        6876|         6662844.0|  969.0|    Medium_Value|\n",
      "|df55c14d1476a9a34...|         743|         3565657.0| 4799.0|      High-Value|\n",
      "|fe5113a38e3575c04...|        2292|         3293604.0| 1437.0|      High-Value|\n",
      "|ec5b2ba62e5743423...|        1428|         2556120.0| 1790.0|      High-Value|\n",
      "|63b964e79dee32a35...|        6072|         2501664.0|  412.0|       Low_value|\n",
      "|46bb3c0b1a65c8399...|         748|         2336752.0| 3124.0|      High-Value|\n",
      "|05455dfa7cd02f13d...|        2184| 2160194.400000087|  989.1|    Medium_Value|\n",
      "|3690e975641f01bd0...|         802|         2124498.0| 2649.0|      High-Value|\n",
      "|349509b216bd5ec11...|         743|         1923627.0| 2589.0|      High-Value|\n",
      "|695476b5848d64ba0...|         687|1820543.1299999943|2649.99|      High-Value|\n",
      "|73236a0796f53d60d...|         832|         1755520.0| 2110.0|      High-Value|\n",
      "|cc803a2c412833101...|         762|         1676400.0| 2200.0|      High-Value|\n",
      "|1ff773612ab8934db...|        5820|1658641.7999999512| 284.99|       Low_value|\n",
      "|fced842c7dad61e8c...|         602|         1654898.0| 2749.0|      High-Value|\n",
      "|1ecb47d23dc8203cd...|        1164|1629588.3599999903|1399.99|      High-Value|\n",
      "|de832e8dbb1f588a4...|        2190|1584990.5999999817| 723.74|    Medium_Value|\n",
      "|803cd9b04f9cd252c...|         488|         1512312.0| 3099.0|      High-Value|\n",
      "|d72181923840c8895...|        2721|1488114.8999999566|  546.9|       Low_value|\n",
      "|06d478ba352a27a51...|        1146|         1461150.0| 1275.0|      High-Value|\n",
      "|0049e8442c2a3e4a8...|        1204|         1444800.0| 1200.0|      High-Value|\n",
      "+--------------------+------------+------------------+-------+----------------+\n",
      "only showing top 20 rows\n",
      "\n"
     ]
    },
    {
     "name": "stderr",
     "output_type": "stream",
     "text": [
      "                                                                                \r"
     ]
    }
   ],
   "source": [
    "## Customer Segmentation Based on Spending\n",
    "\n",
    "customer_spending_df = customer_spending_df.withColumn(\n",
    "    'customer_segment',\n",
    "    when(col('AOV') >=1200, 'High-Value')\n",
    "    .when((col('AOV') <1200) & (col('AOV') >=700),'Medium_Value').otherwise('Low_value')\n",
    ")\n",
    "    \n",
    "customer_spending_df.show()"
   ]
  },
  {
   "cell_type": "code",
   "execution_count": 79,
   "id": "e4c624cc-8705-4ca8-9e77-62139c884e26",
   "metadata": {
    "tags": []
   },
   "outputs": [],
   "source": [
    "full_orders_df = full_orders_df.join(customer_spending_df\n",
    "                                     .select('customer_id','customer_segment'),\n",
    "                                     'customer_id',how='left')"
   ]
  },
  {
   "cell_type": "code",
   "execution_count": 81,
   "id": "194be9ad-ef65-425f-9f3b-3e7c1a3542df",
   "metadata": {
    "tags": []
   },
   "outputs": [
    {
     "name": "stderr",
     "output_type": "stream",
     "text": [
      "                                                                                \r"
     ]
    },
    {
     "name": "stdout",
     "output_type": "stream",
     "text": [
      "+--------------------+----------------+\n",
      "|         customer_id|customer_segment|\n",
      "+--------------------+----------------+\n",
      "|dbef5eb24f60585a8...|       Low_value|\n",
      "|dbef5eb24f60585a8...|       Low_value|\n",
      "|dbef5eb24f60585a8...|       Low_value|\n",
      "|dbef5eb24f60585a8...|       Low_value|\n",
      "|dbef5eb24f60585a8...|       Low_value|\n",
      "|dbef5eb24f60585a8...|       Low_value|\n",
      "|dbef5eb24f60585a8...|       Low_value|\n",
      "|dbef5eb24f60585a8...|       Low_value|\n",
      "|dbef5eb24f60585a8...|       Low_value|\n",
      "|dbef5eb24f60585a8...|       Low_value|\n",
      "|dbef5eb24f60585a8...|       Low_value|\n",
      "|dbef5eb24f60585a8...|       Low_value|\n",
      "|dbef5eb24f60585a8...|       Low_value|\n",
      "|dbef5eb24f60585a8...|       Low_value|\n",
      "|dbef5eb24f60585a8...|       Low_value|\n",
      "|dbef5eb24f60585a8...|       Low_value|\n",
      "|dbef5eb24f60585a8...|       Low_value|\n",
      "|dbef5eb24f60585a8...|       Low_value|\n",
      "|dbef5eb24f60585a8...|       Low_value|\n",
      "|dbef5eb24f60585a8...|       Low_value|\n",
      "+--------------------+----------------+\n",
      "only showing top 20 rows\n",
      "\n"
     ]
    }
   ],
   "source": [
    "full_orders_df.select('customer_id','customer_segment').show()"
   ]
  },
  {
   "cell_type": "code",
   "execution_count": 82,
   "id": "7c35af8e-4fca-4457-af6b-e4c733e24ae4",
   "metadata": {
    "tags": []
   },
   "outputs": [
    {
     "name": "stdout",
     "output_type": "stream",
     "text": [
      "+------------------------+\n",
      "|order_purchase_timestamp|\n",
      "+------------------------+\n",
      "|     2018-05-07 15:00:05|\n",
      "|     2018-05-07 15:00:05|\n",
      "|     2018-05-07 15:00:05|\n",
      "|     2018-05-07 15:00:05|\n",
      "|     2018-05-07 15:00:05|\n",
      "|     2018-05-07 15:00:05|\n",
      "|     2018-05-07 15:00:05|\n",
      "|     2018-05-07 15:00:05|\n",
      "|     2018-05-07 15:00:05|\n",
      "|     2018-05-07 15:00:05|\n",
      "|     2018-05-07 15:00:05|\n",
      "|     2018-05-07 15:00:05|\n",
      "|     2018-05-07 15:00:05|\n",
      "|     2018-05-07 15:00:05|\n",
      "|     2018-05-07 15:00:05|\n",
      "|     2018-05-07 15:00:05|\n",
      "|     2018-05-07 15:00:05|\n",
      "|     2018-05-07 15:00:05|\n",
      "|     2018-05-07 15:00:05|\n",
      "|     2018-05-07 15:00:05|\n",
      "+------------------------+\n",
      "only showing top 20 rows\n",
      "\n"
     ]
    }
   ],
   "source": [
    "full_orders_df.select('order_purchase_timestamp').show()"
   ]
  },
  {
   "cell_type": "code",
   "execution_count": 83,
   "id": "d0c48224-07a6-4b82-b374-fe643944f9e3",
   "metadata": {
    "tags": []
   },
   "outputs": [],
   "source": [
    "## Hourly Order Distribution\n",
    "\n",
    "full_orders_df = full_orders_df.withColumn('hour_of_day',expr('hour(order_purchase_timestamp)'))"
   ]
  },
  {
   "cell_type": "code",
   "execution_count": 84,
   "id": "fc909437-f444-4b5e-9d49-825a3b948107",
   "metadata": {
    "tags": []
   },
   "outputs": [
    {
     "name": "stdout",
     "output_type": "stream",
     "text": [
      "+------------------------+-----------+\n",
      "|order_purchase_timestamp|hour_of_day|\n",
      "+------------------------+-----------+\n",
      "|     2018-05-07 15:00:05|         15|\n",
      "|     2018-05-07 15:00:05|         15|\n",
      "|     2018-05-07 15:00:05|         15|\n",
      "|     2018-05-07 15:00:05|         15|\n",
      "|     2018-05-07 15:00:05|         15|\n",
      "|     2018-05-07 15:00:05|         15|\n",
      "|     2018-05-07 15:00:05|         15|\n",
      "|     2018-05-07 15:00:05|         15|\n",
      "|     2018-05-07 15:00:05|         15|\n",
      "|     2018-05-07 15:00:05|         15|\n",
      "|     2018-05-07 15:00:05|         15|\n",
      "|     2018-05-07 15:00:05|         15|\n",
      "|     2018-05-07 15:00:05|         15|\n",
      "|     2018-05-07 15:00:05|         15|\n",
      "|     2018-05-07 15:00:05|         15|\n",
      "|     2018-05-07 15:00:05|         15|\n",
      "|     2018-05-07 15:00:05|         15|\n",
      "|     2018-05-07 15:00:05|         15|\n",
      "|     2018-05-07 15:00:05|         15|\n",
      "|     2018-05-07 15:00:05|         15|\n",
      "+------------------------+-----------+\n",
      "only showing top 20 rows\n",
      "\n"
     ]
    }
   ],
   "source": [
    "full_orders_df.select('order_purchase_timestamp','hour_of_day').show()"
   ]
  },
  {
   "cell_type": "code",
   "execution_count": 85,
   "id": "2e3b06e9-4aa6-47ce-8e3c-1ce1234dc286",
   "metadata": {
    "tags": []
   },
   "outputs": [],
   "source": [
    "## Weekend vs Weekday Orders\n",
    "\n",
    "full_orders_df = full_orders_df.withColumn('order_day_type',\\\n",
    "        when(dayofweek('order_purchase_timestamp').isin(1,7),lit('Weekend')).otherwise(lit('Weekday')))"
   ]
  },
  {
   "cell_type": "code",
   "execution_count": 86,
   "id": "2767cfb2-8426-4a1f-90cd-eca2f7a5f255",
   "metadata": {
    "tags": []
   },
   "outputs": [
    {
     "name": "stdout",
     "output_type": "stream",
     "text": [
      "+------------------------+--------------+\n",
      "|order_purchase_timestamp|order_day_type|\n",
      "+------------------------+--------------+\n",
      "|     2018-05-07 15:00:05|       Weekday|\n",
      "|     2018-05-07 15:00:05|       Weekday|\n",
      "|     2018-05-07 15:00:05|       Weekday|\n",
      "|     2018-05-07 15:00:05|       Weekday|\n",
      "|     2018-05-07 15:00:05|       Weekday|\n",
      "|     2018-05-07 15:00:05|       Weekday|\n",
      "|     2018-05-07 15:00:05|       Weekday|\n",
      "|     2018-05-07 15:00:05|       Weekday|\n",
      "|     2018-05-07 15:00:05|       Weekday|\n",
      "|     2018-05-07 15:00:05|       Weekday|\n",
      "|     2018-05-07 15:00:05|       Weekday|\n",
      "|     2018-05-07 15:00:05|       Weekday|\n",
      "|     2018-05-07 15:00:05|       Weekday|\n",
      "|     2018-05-07 15:00:05|       Weekday|\n",
      "|     2018-05-07 15:00:05|       Weekday|\n",
      "|     2018-05-07 15:00:05|       Weekday|\n",
      "|     2018-05-07 15:00:05|       Weekday|\n",
      "|     2018-05-07 15:00:05|       Weekday|\n",
      "|     2018-05-07 15:00:05|       Weekday|\n",
      "|     2018-05-07 15:00:05|       Weekday|\n",
      "+------------------------+--------------+\n",
      "only showing top 20 rows\n",
      "\n"
     ]
    }
   ],
   "source": [
    "full_orders_df.select('order_purchase_timestamp','order_day_type').show()"
   ]
  },
  {
   "cell_type": "code",
   "execution_count": 87,
   "id": "34f2afa7-b2d3-4994-b20d-8d9bc6cb39ec",
   "metadata": {
    "tags": []
   },
   "outputs": [
    {
     "name": "stdout",
     "output_type": "stream",
     "text": [
      "root\n",
      " |-- customer_id: string (nullable = true)\n",
      " |-- order_id: string (nullable = true)\n",
      " |-- seller_id: string (nullable = true)\n",
      " |-- product_id: string (nullable = true)\n",
      " |-- order_status: string (nullable = true)\n",
      " |-- order_purchase_timestamp: timestamp (nullable = true)\n",
      " |-- order_approved_at: timestamp (nullable = true)\n",
      " |-- order_delivered_carrier_date: timestamp (nullable = true)\n",
      " |-- order_delivered_customer_date: timestamp (nullable = true)\n",
      " |-- order_estimated_delivery_date: timestamp (nullable = true)\n",
      " |-- order_item_id: integer (nullable = true)\n",
      " |-- shipping_limit_date: timestamp (nullable = true)\n",
      " |-- price: double (nullable = true)\n",
      " |-- freight_value: double (nullable = true)\n",
      " |-- product_category_name: string (nullable = true)\n",
      " |-- product_name_lenght: integer (nullable = true)\n",
      " |-- product_description_lenght: integer (nullable = true)\n",
      " |-- product_photos_qty: integer (nullable = true)\n",
      " |-- product_weight_g: integer (nullable = true)\n",
      " |-- product_length_cm: integer (nullable = true)\n",
      " |-- product_height_cm: integer (nullable = true)\n",
      " |-- product_width_cm: integer (nullable = true)\n",
      " |-- seller_zip_code_prefix: integer (nullable = true)\n",
      " |-- seller_city: string (nullable = true)\n",
      " |-- seller_state: string (nullable = true)\n",
      " |-- customer_unique_id: string (nullable = true)\n",
      " |-- customer_zip_code_prefix: integer (nullable = true)\n",
      " |-- customer_city: string (nullable = true)\n",
      " |-- customer_state: string (nullable = true)\n",
      " |-- geolocation_zip_code_prefix: integer (nullable = true)\n",
      " |-- geolocation_lat: double (nullable = true)\n",
      " |-- geolocation_lng: double (nullable = true)\n",
      " |-- geolocation_city: string (nullable = true)\n",
      " |-- geolocation_state: string (nullable = true)\n",
      " |-- review_id: string (nullable = true)\n",
      " |-- review_score: string (nullable = true)\n",
      " |-- review_comment_title: string (nullable = true)\n",
      " |-- review_comment_message: string (nullable = true)\n",
      " |-- review_creation_date: string (nullable = true)\n",
      " |-- review_answer_timestamp: string (nullable = true)\n",
      " |-- payment_sequential: integer (nullable = true)\n",
      " |-- payment_type: string (nullable = true)\n",
      " |-- payment_installments: integer (nullable = true)\n",
      " |-- payment_value: double (nullable = true)\n",
      " |-- is_delivered: integer (nullable = false)\n",
      " |-- is_canceled: integer (nullable = false)\n",
      " |-- order_revenue: double (nullable = true)\n",
      " |-- customer_segment: string (nullable = true)\n",
      " |-- hour_of_day: integer (nullable = true)\n",
      " |-- order_day_type: string (nullable = false)\n",
      "\n"
     ]
    }
   ],
   "source": [
    "full_orders_df.printSchema()"
   ]
  },
  {
   "cell_type": "code",
   "execution_count": null,
   "id": "428cfd66-a50a-41d3-85d4-ac5971e307ef",
   "metadata": {},
   "outputs": [],
   "source": []
  },
  {
   "cell_type": "code",
   "execution_count": null,
   "id": "b81b9f83-346e-4068-9147-5cbfb160b0bf",
   "metadata": {},
   "outputs": [],
   "source": []
  },
  {
   "cell_type": "code",
   "execution_count": null,
   "id": "6225184a-cccb-477f-ba2a-b5a4e757b469",
   "metadata": {},
   "outputs": [],
   "source": []
  },
  {
   "cell_type": "code",
   "execution_count": 89,
   "id": "f545f6e6-d01c-4092-bc01-7658d40dd499",
   "metadata": {
    "tags": []
   },
   "outputs": [],
   "source": [
    "!hadoop fs -mkdir /data/olist/processed/"
   ]
  },
  {
   "cell_type": "code",
   "execution_count": 90,
   "id": "1dee3cba-6fc2-4fd0-84cf-b112dd00b29c",
   "metadata": {
    "tags": []
   },
   "outputs": [
    {
     "name": "stderr",
     "output_type": "stream",
     "text": [
      "                                                                                \r"
     ]
    }
   ],
   "source": [
    "full_orders_df.write.mode('overwrite').parquet('/data/olist/processed')"
   ]
  },
  {
   "cell_type": "code",
   "execution_count": 91,
   "id": "e2004e1a-a69b-4e75-af51-b1a59d8f2980",
   "metadata": {
    "tags": []
   },
   "outputs": [
    {
     "name": "stdout",
     "output_type": "stream",
     "text": [
      "Found 11 items\n",
      "-rw-r--r--   2 root hadoop          0 2025-10-18 06:23 /data/olist/processed/_SUCCESS\n",
      "-rw-r--r--   2 root hadoop      8.5 M 2025-10-18 06:23 /data/olist/processed/part-00000-c3f55f6a-900a-46aa-9be1-0677c5b48668-c000.snappy.parquet\n",
      "-rw-r--r--   2 root hadoop      7.9 M 2025-10-18 06:23 /data/olist/processed/part-00001-c3f55f6a-900a-46aa-9be1-0677c5b48668-c000.snappy.parquet\n",
      "-rw-r--r--   2 root hadoop      7.7 M 2025-10-18 06:22 /data/olist/processed/part-00002-c3f55f6a-900a-46aa-9be1-0677c5b48668-c000.snappy.parquet\n",
      "-rw-r--r--   2 root hadoop      9.2 M 2025-10-18 06:23 /data/olist/processed/part-00003-c3f55f6a-900a-46aa-9be1-0677c5b48668-c000.snappy.parquet\n",
      "-rw-r--r--   2 root hadoop      9.1 M 2025-10-18 06:23 /data/olist/processed/part-00004-c3f55f6a-900a-46aa-9be1-0677c5b48668-c000.snappy.parquet\n",
      "-rw-r--r--   2 root hadoop      8.4 M 2025-10-18 06:23 /data/olist/processed/part-00005-c3f55f6a-900a-46aa-9be1-0677c5b48668-c000.snappy.parquet\n",
      "-rw-r--r--   2 root hadoop      8.8 M 2025-10-18 06:23 /data/olist/processed/part-00006-c3f55f6a-900a-46aa-9be1-0677c5b48668-c000.snappy.parquet\n",
      "-rw-r--r--   2 root hadoop      8.6 M 2025-10-18 06:23 /data/olist/processed/part-00007-c3f55f6a-900a-46aa-9be1-0677c5b48668-c000.snappy.parquet\n",
      "-rw-r--r--   2 root hadoop      7.9 M 2025-10-18 06:23 /data/olist/processed/part-00008-c3f55f6a-900a-46aa-9be1-0677c5b48668-c000.snappy.parquet\n",
      "-rw-r--r--   2 root hadoop      7.5 M 2025-10-18 06:23 /data/olist/processed/part-00009-c3f55f6a-900a-46aa-9be1-0677c5b48668-c000.snappy.parquet\n"
     ]
    }
   ],
   "source": [
    "!hadoop fs -ls -h /data/olist/processed/"
   ]
  },
  {
   "cell_type": "code",
   "execution_count": null,
   "id": "dc22a199-eba3-41de-b20f-60c2a9a2e434",
   "metadata": {},
   "outputs": [],
   "source": []
  }
 ],
 "metadata": {
  "kernelspec": {
   "display_name": "PySpark",
   "language": "python",
   "name": "pyspark"
  },
  "language_info": {
   "codemirror_mode": {
    "name": "ipython",
    "version": 3
   },
   "file_extension": ".py",
   "mimetype": "text/x-python",
   "name": "python",
   "nbconvert_exporter": "python",
   "pygments_lexer": "ipython3",
   "version": "3.11.8"
  }
 },
 "nbformat": 4,
 "nbformat_minor": 5
}